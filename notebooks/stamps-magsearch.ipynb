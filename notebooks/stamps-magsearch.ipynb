{
 "cells": [
  {
   "cell_type": "code",
   "execution_count": 1,
   "id": "a9a99f8c-5813-41f7-8138-9f1e384c9088",
   "metadata": {},
   "outputs": [],
   "source": [
    "%matplotlib inline\n",
    "import pandas as pd\n",
    "\n",
    "import os"
   ]
  },
  {
   "cell_type": "markdown",
   "id": "ff34b613-494a-4a21-862b-c53644c0bd60",
   "metadata": {
    "tags": []
   },
   "source": [
    "# Load in SRA metadata and search results"
   ]
  },
  {
   "cell_type": "markdown",
   "id": "68f96661-bec4-4924-943f-9284a83a4d84",
   "metadata": {
    "tags": []
   },
   "source": [
    "### Load in SRA metadata info:\n",
    "\n",
    "This is the 'run info' that you can download from NCBI in bulk; it's got one entry for every accession, approximately."
   ]
  },
  {
   "cell_type": "code",
   "execution_count": 4,
   "id": "48fb6156-d833-4b3a-a79b-9c8417031c57",
   "metadata": {},
   "outputs": [
    {
     "name": "stderr",
     "output_type": "stream",
     "text": [
      "/var/folders/1c/s23lyl9x7cgd1rg4n6t867qr0000gn/T/ipykernel_54830/3196597804.py:1: DtypeWarning: Columns (8,33,38,39,40,43) have mixed types. Specify dtype option on import or set low_memory=False.\n",
      "  run_info = pd.read_csv('../../big.runinfo.csv.gz')\n"
     ]
    }
   ],
   "source": [
    "run_info = pd.read_csv('../../big.runinfo.csv.gz')"
   ]
  },
  {
   "cell_type": "markdown",
   "id": "16977ddf-0df9-491a-922e-d13d99804cab",
   "metadata": {},
   "source": [
    "The two most important columns for our purposes are 'Run' and 'ScientificName':"
   ]
  },
  {
   "cell_type": "code",
   "execution_count": 5,
   "id": "100a718e-79c5-4f7c-8c94-c18ed83b9a52",
   "metadata": {},
   "outputs": [
    {
     "name": "stdout",
     "output_type": "stream",
     "text": [
      "Index(['Run', 'ReleaseDate', 'LoadDate', 'spots', 'bases', 'spots_with_mates',\n",
      "       'avgLength', 'size_MB', 'AssemblyName', 'download_path', 'Experiment',\n",
      "       'LibraryName', 'LibraryStrategy', 'LibrarySelection', 'LibrarySource',\n",
      "       'LibraryLayout', 'InsertSize', 'InsertDev', 'Platform', 'Model',\n",
      "       'SRAStudy', 'BioProject', 'Study_Pubmed_id', 'ProjectID', 'Sample',\n",
      "       'BioSample', 'SampleType', 'TaxID', 'ScientificName', 'SampleName',\n",
      "       'g1k_pop_code', 'source', 'g1k_analysis_group', 'Subject_ID', 'Sex',\n",
      "       'Disease', 'Tumor', 'Affection_Status', 'Analyte_Type',\n",
      "       'Histological_Type', 'Body_Site', 'CenterName', 'Submission',\n",
      "       'dbgap_study_accession', 'Consent', 'RunHash', 'ReadHash'],\n",
      "      dtype='object')\n"
     ]
    },
    {
     "data": {
      "text/html": [
       "<div>\n",
       "<style scoped>\n",
       "    .dataframe tbody tr th:only-of-type {\n",
       "        vertical-align: middle;\n",
       "    }\n",
       "\n",
       "    .dataframe tbody tr th {\n",
       "        vertical-align: top;\n",
       "    }\n",
       "\n",
       "    .dataframe thead th {\n",
       "        text-align: right;\n",
       "    }\n",
       "</style>\n",
       "<table border=\"1\" class=\"dataframe\">\n",
       "  <thead>\n",
       "    <tr style=\"text-align: right;\">\n",
       "      <th></th>\n",
       "      <th>Run</th>\n",
       "      <th>ScientificName</th>\n",
       "    </tr>\n",
       "  </thead>\n",
       "  <tbody>\n",
       "    <tr>\n",
       "      <th>0</th>\n",
       "      <td>SRR18036904</td>\n",
       "      <td>bovine metagenome</td>\n",
       "    </tr>\n",
       "    <tr>\n",
       "      <th>1</th>\n",
       "      <td>SRR18036905</td>\n",
       "      <td>bovine metagenome</td>\n",
       "    </tr>\n",
       "    <tr>\n",
       "      <th>2</th>\n",
       "      <td>SRR18036906</td>\n",
       "      <td>bovine metagenome</td>\n",
       "    </tr>\n",
       "    <tr>\n",
       "      <th>3</th>\n",
       "      <td>SRR18036907</td>\n",
       "      <td>bovine metagenome</td>\n",
       "    </tr>\n",
       "    <tr>\n",
       "      <th>4</th>\n",
       "      <td>SRR18036908</td>\n",
       "      <td>bovine metagenome</td>\n",
       "    </tr>\n",
       "  </tbody>\n",
       "</table>\n",
       "</div>"
      ],
      "text/plain": [
       "           Run     ScientificName\n",
       "0  SRR18036904  bovine metagenome\n",
       "1  SRR18036905  bovine metagenome\n",
       "2  SRR18036906  bovine metagenome\n",
       "3  SRR18036907  bovine metagenome\n",
       "4  SRR18036908  bovine metagenome"
      ]
     },
     "execution_count": 5,
     "metadata": {},
     "output_type": "execute_result"
    }
   ],
   "source": [
    "print(run_info.columns)\n",
    "\n",
    "run_info[['Run', 'ScientificName']].head()"
   ]
  },
  {
   "cell_type": "code",
   "execution_count": 6,
   "id": "da7555dc-f16e-4170-a094-043298074e01",
   "metadata": {},
   "outputs": [
    {
     "data": {
      "text/plain": [
       "702013"
      ]
     },
     "execution_count": 6,
     "metadata": {},
     "output_type": "execute_result"
    }
   ],
   "source": [
    "# there are ~700,000 entries:\n",
    "len(run_info)"
   ]
  },
  {
   "cell_type": "code",
   "execution_count": 7,
   "id": "9d36ab91-5c00-47d4-9220-a364f002c46b",
   "metadata": {},
   "outputs": [],
   "source": [
    "run_info2 = run_info[['Run', 'ScientificName']]"
   ]
  },
  {
   "cell_type": "markdown",
   "id": "e3d2b776-b037-4076-9cc9-0e269eb879b6",
   "metadata": {
    "tags": []
   },
   "source": [
    "### Now, load in the stamps MAGsearch results"
   ]
  },
  {
   "cell_type": "code",
   "execution_count": 8,
   "id": "8b902c20-a7be-4228-97b0-b0feb73cff4d",
   "metadata": {},
   "outputs": [
    {
     "name": "stdout",
     "output_type": "stream",
     "text": [
      "118541\n"
     ]
    },
    {
     "data": {
      "text/html": [
       "<div>\n",
       "<style scoped>\n",
       "    .dataframe tbody tr th:only-of-type {\n",
       "        vertical-align: middle;\n",
       "    }\n",
       "\n",
       "    .dataframe tbody tr th {\n",
       "        vertical-align: top;\n",
       "    }\n",
       "\n",
       "    .dataframe thead th {\n",
       "        text-align: right;\n",
       "    }\n",
       "</style>\n",
       "<table border=\"1\" class=\"dataframe\">\n",
       "  <thead>\n",
       "    <tr style=\"text-align: right;\">\n",
       "      <th></th>\n",
       "      <th>query</th>\n",
       "      <th>Run</th>\n",
       "      <th>containment</th>\n",
       "    </tr>\n",
       "  </thead>\n",
       "  <tbody>\n",
       "    <tr>\n",
       "      <th>0</th>\n",
       "      <td>S26</td>\n",
       "      <td>/group/ctbrowngrp/irber/data/wort-data/wort-sr...</td>\n",
       "      <td>0.012544</td>\n",
       "    </tr>\n",
       "    <tr>\n",
       "      <th>1</th>\n",
       "      <td>S26</td>\n",
       "      <td>/group/ctbrowngrp/irber/data/wort-data/wort-sr...</td>\n",
       "      <td>0.013018</td>\n",
       "    </tr>\n",
       "    <tr>\n",
       "      <th>2</th>\n",
       "      <td>S26</td>\n",
       "      <td>/group/ctbrowngrp/irber/data/wort-data/wort-sr...</td>\n",
       "      <td>0.012071</td>\n",
       "    </tr>\n",
       "    <tr>\n",
       "      <th>3</th>\n",
       "      <td>FV_DSM_15829_genome</td>\n",
       "      <td>/group/ctbrowngrp/irber/data/wort-data/wort-sr...</td>\n",
       "      <td>0.397849</td>\n",
       "    </tr>\n",
       "    <tr>\n",
       "      <th>4</th>\n",
       "      <td>C3_T13_0</td>\n",
       "      <td>/group/ctbrowngrp/irber/data/wort-data/wort-sr...</td>\n",
       "      <td>0.013866</td>\n",
       "    </tr>\n",
       "  </tbody>\n",
       "</table>\n",
       "</div>"
      ],
      "text/plain": [
       "                 query                                                Run  \\\n",
       "0                  S26  /group/ctbrowngrp/irber/data/wort-data/wort-sr...   \n",
       "1                  S26  /group/ctbrowngrp/irber/data/wort-data/wort-sr...   \n",
       "2                  S26  /group/ctbrowngrp/irber/data/wort-data/wort-sr...   \n",
       "3  FV_DSM_15829_genome  /group/ctbrowngrp/irber/data/wort-data/wort-sr...   \n",
       "4             C3_T13_0  /group/ctbrowngrp/irber/data/wort-data/wort-sr...   \n",
       "\n",
       "   containment  \n",
       "0     0.012544  \n",
       "1     0.013018  \n",
       "2     0.012071  \n",
       "3     0.397849  \n",
       "4     0.013866  "
      ]
     },
     "execution_count": 8,
     "metadata": {},
     "output_type": "execute_result"
    }
   ],
   "source": [
    "magsearch_df = pd.read_csv('stamps.csv', quotechar=\"'\")\n",
    "print(len(magsearch_df))\n",
    "magsearch_df.head()"
   ]
  },
  {
   "cell_type": "code",
   "execution_count": 9,
   "id": "54d17ae2-1f99-45fd-b394-91a7b1a1c76f",
   "metadata": {},
   "outputs": [
    {
     "data": {
      "text/plain": [
       "'/group/ctbrowngrp/irber/data/wort-data/wort-sra/sigs/SRR7479650.sig'"
      ]
     },
     "execution_count": 9,
     "metadata": {},
     "output_type": "execute_result"
    }
   ],
   "source": [
    "magsearch_df['Run'][0]"
   ]
  },
  {
   "cell_type": "markdown",
   "id": "484fa603-a5f6-4c4a-b09b-b8163d4b371a",
   "metadata": {
    "tags": []
   },
   "source": [
    "# Make the results more human-readable and add SRA metadata info"
   ]
  },
  {
   "cell_type": "markdown",
   "id": "fe01e92b-5747-467d-a7ec-5c99eda1547f",
   "metadata": {},
   "source": [
    "### First, we need to take the filenames in the 'Run' column and turn them into accessions."
   ]
  },
  {
   "cell_type": "code",
   "execution_count": 10,
   "id": "8b64883d-85bd-4c0b-aa88-c8a2458a656c",
   "metadata": {},
   "outputs": [
    {
     "data": {
      "text/html": [
       "<div>\n",
       "<style scoped>\n",
       "    .dataframe tbody tr th:only-of-type {\n",
       "        vertical-align: middle;\n",
       "    }\n",
       "\n",
       "    .dataframe tbody tr th {\n",
       "        vertical-align: top;\n",
       "    }\n",
       "\n",
       "    .dataframe thead th {\n",
       "        text-align: right;\n",
       "    }\n",
       "</style>\n",
       "<table border=\"1\" class=\"dataframe\">\n",
       "  <thead>\n",
       "    <tr style=\"text-align: right;\">\n",
       "      <th></th>\n",
       "      <th>query</th>\n",
       "      <th>Run</th>\n",
       "      <th>containment</th>\n",
       "    </tr>\n",
       "  </thead>\n",
       "  <tbody>\n",
       "    <tr>\n",
       "      <th>0</th>\n",
       "      <td>S26</td>\n",
       "      <td>SRR7479650</td>\n",
       "      <td>0.012544</td>\n",
       "    </tr>\n",
       "    <tr>\n",
       "      <th>1</th>\n",
       "      <td>S26</td>\n",
       "      <td>ERR771002</td>\n",
       "      <td>0.013018</td>\n",
       "    </tr>\n",
       "    <tr>\n",
       "      <th>2</th>\n",
       "      <td>S26</td>\n",
       "      <td>ERR3573764</td>\n",
       "      <td>0.012071</td>\n",
       "    </tr>\n",
       "    <tr>\n",
       "      <th>3</th>\n",
       "      <td>FV_DSM_15829_genome</td>\n",
       "      <td>ERR3500860</td>\n",
       "      <td>0.397849</td>\n",
       "    </tr>\n",
       "    <tr>\n",
       "      <th>4</th>\n",
       "      <td>C3_T13_0</td>\n",
       "      <td>SRR6466471</td>\n",
       "      <td>0.013866</td>\n",
       "    </tr>\n",
       "  </tbody>\n",
       "</table>\n",
       "</div>"
      ],
      "text/plain": [
       "                 query         Run  containment\n",
       "0                  S26  SRR7479650     0.012544\n",
       "1                  S26   ERR771002     0.013018\n",
       "2                  S26  ERR3573764     0.012071\n",
       "3  FV_DSM_15829_genome  ERR3500860     0.397849\n",
       "4             C3_T13_0  SRR6466471     0.013866"
      ]
     },
     "execution_count": 10,
     "metadata": {},
     "output_type": "execute_result"
    }
   ],
   "source": [
    "def extract_run_acc(x):\n",
    "    # get just the end filename\n",
    "    x = os.path.basename(x)\n",
    "    # remove extension '.sig'\n",
    "    y, ext = os.path.splitext(x)\n",
    "    assert ext == '.sig', ext\n",
    "    return y\n",
    "\n",
    "# this can be used in case we have .gz, .fasta, .fa, etc in the query filename\n",
    "def remove_extension(x):\n",
    "    x = os.path.basename(x)\n",
    "    y, ext = os.path.splitext(x)\n",
    "    while ext in ('.gz', '.fasta', '.fa', '.fna'):\n",
    "        x = y\n",
    "        y, ext = os.path.splitext(x)\n",
    "    return y\n",
    "\n",
    "magsearch_df['Run'] = magsearch_df['Run'].apply(extract_run_acc)\n",
    "magsearch_df.head()"
   ]
  },
  {
   "cell_type": "markdown",
   "id": "6debffd8-b2ee-4ed9-850e-02c0e70ed206",
   "metadata": {},
   "source": [
    "### Now we can correlate magsearch results with SRA RunInfo"
   ]
  },
  {
   "cell_type": "code",
   "execution_count": 11,
   "id": "a34f2bc3-c27d-4f8a-85a7-6978bac0e8a9",
   "metadata": {},
   "outputs": [
    {
     "data": {
      "text/html": [
       "<div>\n",
       "<style scoped>\n",
       "    .dataframe tbody tr th:only-of-type {\n",
       "        vertical-align: middle;\n",
       "    }\n",
       "\n",
       "    .dataframe tbody tr th {\n",
       "        vertical-align: top;\n",
       "    }\n",
       "\n",
       "    .dataframe thead th {\n",
       "        text-align: right;\n",
       "    }\n",
       "</style>\n",
       "<table border=\"1\" class=\"dataframe\">\n",
       "  <thead>\n",
       "    <tr style=\"text-align: right;\">\n",
       "      <th></th>\n",
       "      <th>ScientificName</th>\n",
       "    </tr>\n",
       "    <tr>\n",
       "      <th>Run</th>\n",
       "      <th></th>\n",
       "    </tr>\n",
       "  </thead>\n",
       "  <tbody>\n",
       "    <tr>\n",
       "      <th>SRR18036904</th>\n",
       "      <td>bovine metagenome</td>\n",
       "    </tr>\n",
       "    <tr>\n",
       "      <th>SRR18036905</th>\n",
       "      <td>bovine metagenome</td>\n",
       "    </tr>\n",
       "    <tr>\n",
       "      <th>SRR18036906</th>\n",
       "      <td>bovine metagenome</td>\n",
       "    </tr>\n",
       "    <tr>\n",
       "      <th>SRR18036907</th>\n",
       "      <td>bovine metagenome</td>\n",
       "    </tr>\n",
       "    <tr>\n",
       "      <th>SRR18036908</th>\n",
       "      <td>bovine metagenome</td>\n",
       "    </tr>\n",
       "    <tr>\n",
       "      <th>...</th>\n",
       "      <td>...</td>\n",
       "    </tr>\n",
       "    <tr>\n",
       "      <th>SRR11108097</th>\n",
       "      <td>gut metagenome</td>\n",
       "    </tr>\n",
       "    <tr>\n",
       "      <th>SRR8144073</th>\n",
       "      <td>Uvigerina striata</td>\n",
       "    </tr>\n",
       "    <tr>\n",
       "      <th>SRR8144074</th>\n",
       "      <td>Uvigerina striata</td>\n",
       "    </tr>\n",
       "    <tr>\n",
       "      <th>SRR8144079</th>\n",
       "      <td>Valvulineria inflata</td>\n",
       "    </tr>\n",
       "    <tr>\n",
       "      <th>SRR8144080</th>\n",
       "      <td>Valvulineria inflata</td>\n",
       "    </tr>\n",
       "  </tbody>\n",
       "</table>\n",
       "<p>702013 rows × 1 columns</p>\n",
       "</div>"
      ],
      "text/plain": [
       "                   ScientificName\n",
       "Run                              \n",
       "SRR18036904     bovine metagenome\n",
       "SRR18036905     bovine metagenome\n",
       "SRR18036906     bovine metagenome\n",
       "SRR18036907     bovine metagenome\n",
       "SRR18036908     bovine metagenome\n",
       "...                           ...\n",
       "SRR11108097        gut metagenome\n",
       "SRR8144073      Uvigerina striata\n",
       "SRR8144074      Uvigerina striata\n",
       "SRR8144079   Valvulineria inflata\n",
       "SRR8144080   Valvulineria inflata\n",
       "\n",
       "[702013 rows x 1 columns]"
      ]
     },
     "execution_count": 11,
     "metadata": {},
     "output_type": "execute_result"
    }
   ],
   "source": [
    "run_info2.set_index('Run')#['ScientificName']"
   ]
  },
  {
   "cell_type": "code",
   "execution_count": 12,
   "id": "0be50ca2-b6e5-4d47-ad37-8905c1a7c44a",
   "metadata": {},
   "outputs": [
    {
     "data": {
      "text/html": [
       "<div>\n",
       "<style scoped>\n",
       "    .dataframe tbody tr th:only-of-type {\n",
       "        vertical-align: middle;\n",
       "    }\n",
       "\n",
       "    .dataframe tbody tr th {\n",
       "        vertical-align: top;\n",
       "    }\n",
       "\n",
       "    .dataframe thead th {\n",
       "        text-align: right;\n",
       "    }\n",
       "</style>\n",
       "<table border=\"1\" class=\"dataframe\">\n",
       "  <thead>\n",
       "    <tr style=\"text-align: right;\">\n",
       "      <th></th>\n",
       "      <th>query</th>\n",
       "      <th>containment</th>\n",
       "      <th>ScientificName</th>\n",
       "    </tr>\n",
       "    <tr>\n",
       "      <th>Run</th>\n",
       "      <th></th>\n",
       "      <th></th>\n",
       "      <th></th>\n",
       "    </tr>\n",
       "  </thead>\n",
       "  <tbody>\n",
       "    <tr>\n",
       "      <th>DRR001455</th>\n",
       "      <td>S26</td>\n",
       "      <td>0.018225</td>\n",
       "      <td>soil metagenome</td>\n",
       "    </tr>\n",
       "    <tr>\n",
       "      <th>DRR001456</th>\n",
       "      <td>S26</td>\n",
       "      <td>0.012544</td>\n",
       "      <td>soil metagenome</td>\n",
       "    </tr>\n",
       "    <tr>\n",
       "      <th>DRR001457</th>\n",
       "      <td>S26</td>\n",
       "      <td>0.014201</td>\n",
       "      <td>soil metagenome</td>\n",
       "    </tr>\n",
       "    <tr>\n",
       "      <th>DRR001458</th>\n",
       "      <td>S26</td>\n",
       "      <td>0.013491</td>\n",
       "      <td>soil metagenome</td>\n",
       "    </tr>\n",
       "    <tr>\n",
       "      <th>DRR001459</th>\n",
       "      <td>S26</td>\n",
       "      <td>0.017278</td>\n",
       "      <td>soil metagenome</td>\n",
       "    </tr>\n",
       "  </tbody>\n",
       "</table>\n",
       "</div>"
      ],
      "text/plain": [
       "          query  containment   ScientificName\n",
       "Run                                          \n",
       "DRR001455   S26     0.018225  soil metagenome\n",
       "DRR001456   S26     0.012544  soil metagenome\n",
       "DRR001457   S26     0.014201  soil metagenome\n",
       "DRR001458   S26     0.013491  soil metagenome\n",
       "DRR001459   S26     0.017278  soil metagenome"
      ]
     },
     "execution_count": 12,
     "metadata": {},
     "output_type": "execute_result"
    }
   ],
   "source": [
    "magsearch2_df = magsearch_df.set_index('Run').join(run_info2.set_index('Run')['ScientificName'])\n",
    "magsearch2_df.head()"
   ]
  },
  {
   "cell_type": "markdown",
   "id": "1d7ffabb-a0e5-42c9-9fb5-47fbf28b57c1",
   "metadata": {},
   "source": [
    "### Subset to just SRA results with good scientific names"
   ]
  },
  {
   "cell_type": "code",
   "execution_count": 13,
   "id": "37cd098d-06f2-4afa-a6a4-6833a28d7cb4",
   "metadata": {},
   "outputs": [
    {
     "name": "stdout",
     "output_type": "stream",
     "text": [
      "13596\n"
     ]
    }
   ],
   "source": [
    "# how many have 'null' scientific name?\n",
    "null_df = magsearch2_df[magsearch2_df['ScientificName'].isnull()]\n",
    "print(len(null_df))"
   ]
  },
  {
   "cell_type": "code",
   "execution_count": 14,
   "id": "920f533c-4555-4c06-aad6-6c9aac76363c",
   "metadata": {},
   "outputs": [
    {
     "name": "stdout",
     "output_type": "stream",
     "text": [
      "Of 118541 MAGsearch results, 104945 have non-null metadata (88.53%)\n"
     ]
    },
    {
     "data": {
      "text/html": [
       "<div>\n",
       "<style scoped>\n",
       "    .dataframe tbody tr th:only-of-type {\n",
       "        vertical-align: middle;\n",
       "    }\n",
       "\n",
       "    .dataframe tbody tr th {\n",
       "        vertical-align: top;\n",
       "    }\n",
       "\n",
       "    .dataframe thead th {\n",
       "        text-align: right;\n",
       "    }\n",
       "</style>\n",
       "<table border=\"1\" class=\"dataframe\">\n",
       "  <thead>\n",
       "    <tr style=\"text-align: right;\">\n",
       "      <th></th>\n",
       "      <th>query</th>\n",
       "      <th>containment</th>\n",
       "      <th>ScientificName</th>\n",
       "    </tr>\n",
       "    <tr>\n",
       "      <th>Run</th>\n",
       "      <th></th>\n",
       "      <th></th>\n",
       "      <th></th>\n",
       "    </tr>\n",
       "  </thead>\n",
       "  <tbody>\n",
       "    <tr>\n",
       "      <th>DRR001455</th>\n",
       "      <td>S26</td>\n",
       "      <td>0.018225</td>\n",
       "      <td>soil metagenome</td>\n",
       "    </tr>\n",
       "    <tr>\n",
       "      <th>DRR001456</th>\n",
       "      <td>S26</td>\n",
       "      <td>0.012544</td>\n",
       "      <td>soil metagenome</td>\n",
       "    </tr>\n",
       "    <tr>\n",
       "      <th>DRR001457</th>\n",
       "      <td>S26</td>\n",
       "      <td>0.014201</td>\n",
       "      <td>soil metagenome</td>\n",
       "    </tr>\n",
       "    <tr>\n",
       "      <th>DRR001458</th>\n",
       "      <td>S26</td>\n",
       "      <td>0.013491</td>\n",
       "      <td>soil metagenome</td>\n",
       "    </tr>\n",
       "    <tr>\n",
       "      <th>DRR001459</th>\n",
       "      <td>S26</td>\n",
       "      <td>0.017278</td>\n",
       "      <td>soil metagenome</td>\n",
       "    </tr>\n",
       "  </tbody>\n",
       "</table>\n",
       "</div>"
      ],
      "text/plain": [
       "          query  containment   ScientificName\n",
       "Run                                          \n",
       "DRR001455   S26     0.018225  soil metagenome\n",
       "DRR001456   S26     0.012544  soil metagenome\n",
       "DRR001457   S26     0.014201  soil metagenome\n",
       "DRR001458   S26     0.013491  soil metagenome\n",
       "DRR001459   S26     0.017278  soil metagenome"
      ]
     },
     "execution_count": 14,
     "metadata": {},
     "output_type": "execute_result"
    }
   ],
   "source": [
    "# pull out just the ones with good scientific names:\n",
    "magsearch3_df = magsearch2_df[~magsearch2_df['ScientificName'].isnull()]\n",
    "perc_non_null = len(magsearch3_df)/len(magsearch2_df)*100\n",
    "print(f\"Of {len(magsearch2_df)} MAGsearch results, {len(magsearch3_df)} have non-null metadata ({perc_non_null:.2f}%)\")\n",
    "magsearch3_df.head()"
   ]
  },
  {
   "cell_type": "code",
   "execution_count": 15,
   "id": "66d4c7f4-e652-4eaa-9709-304b62c06be5",
   "metadata": {},
   "outputs": [
    {
     "name": "stdout",
     "output_type": "stream",
     "text": [
      "4 independent queries in results\n"
     ]
    }
   ],
   "source": [
    "print(f'{len(set(magsearch3_df[\"query\"]))} independent queries in results')"
   ]
  },
  {
   "cell_type": "code",
   "execution_count": 16,
   "id": "aede9eb4-344c-4e9f-b5e3-0b72cbaac1ce",
   "metadata": {},
   "outputs": [
    {
     "data": {
      "text/plain": [
       "S26                     40004\n",
       "FV_DSM_15829_genome     26336\n",
       "C3_T13_0                24175\n",
       "FV_PB189-T1-4_genome    14430\n",
       "Name: query, dtype: int64"
      ]
     },
     "execution_count": 16,
     "metadata": {},
     "output_type": "execute_result"
    }
   ],
   "source": [
    "# how many matches do we have for each query?\n",
    "magsearch3_df[\"query\"].value_counts()#[:20]"
   ]
  },
  {
   "cell_type": "markdown",
   "id": "e2c8ea2d-8308-43f9-92e5-b25fb8021607",
   "metadata": {},
   "source": [
    "### Split Results by Query\n",
    "\n",
    "We two very different queries! Let's split our results into a dataframe for each\n",
    "\n",
    "marine_queries = [\"S26\", \"C3_T13_0\"]\n",
    "\n",
    "vg_queries = [\"FV_DSM_15829_genome\", \"FV_PB189-T1-4_genome\"]"
   ]
  },
  {
   "cell_type": "code",
   "execution_count": 35,
   "id": "8e6973a8-9e62-47f6-89a8-346184912aab",
   "metadata": {},
   "outputs": [],
   "source": [
    "marine_queries = [\"S26\", \"C3_T13_0\"]\n",
    "vg_queries = [\"FV_DSM_15829_genome\", \"FV_PB189-T1-4_genome\"]\n",
    "\n",
    "marine_df = magsearch3_df[magsearch3_df[\"query\"].isin(marine_queries)]\n",
    "vg_df = magsearch3_df[magsearch3_df[\"query\"].isin(vg_queries)]"
   ]
  },
  {
   "cell_type": "code",
   "execution_count": 46,
   "id": "f091e63c-d85e-438d-92aa-d0e533ddb066",
   "metadata": {},
   "outputs": [
    {
     "data": {
      "text/plain": [
       "array(['FV_DSM_15829_genome', 'FV_PB189-T1-4_genome'], dtype=object)"
      ]
     },
     "execution_count": 46,
     "metadata": {},
     "output_type": "execute_result"
    }
   ],
   "source": [
    "marine_df[\"query\"].unique()\n",
    "vg_df[\"query\"].unique()"
   ]
  },
  {
   "cell_type": "code",
   "execution_count": 47,
   "id": "8c9ee5f7-53be-434d-96ba-bfc249fc6c73",
   "metadata": {},
   "outputs": [
    {
     "data": {
      "text/html": [
       "<div>\n",
       "<style scoped>\n",
       "    .dataframe tbody tr th:only-of-type {\n",
       "        vertical-align: middle;\n",
       "    }\n",
       "\n",
       "    .dataframe tbody tr th {\n",
       "        vertical-align: top;\n",
       "    }\n",
       "\n",
       "    .dataframe thead th {\n",
       "        text-align: right;\n",
       "    }\n",
       "</style>\n",
       "<table border=\"1\" class=\"dataframe\">\n",
       "  <thead>\n",
       "    <tr style=\"text-align: right;\">\n",
       "      <th></th>\n",
       "      <th>query</th>\n",
       "      <th>containment</th>\n",
       "      <th>ScientificName</th>\n",
       "    </tr>\n",
       "    <tr>\n",
       "      <th>Run</th>\n",
       "      <th></th>\n",
       "      <th></th>\n",
       "      <th></th>\n",
       "    </tr>\n",
       "  </thead>\n",
       "  <tbody>\n",
       "    <tr>\n",
       "      <th>DRR001455</th>\n",
       "      <td>S26</td>\n",
       "      <td>0.018225</td>\n",
       "      <td>soil metagenome</td>\n",
       "    </tr>\n",
       "    <tr>\n",
       "      <th>DRR001456</th>\n",
       "      <td>S26</td>\n",
       "      <td>0.012544</td>\n",
       "      <td>soil metagenome</td>\n",
       "    </tr>\n",
       "    <tr>\n",
       "      <th>DRR001457</th>\n",
       "      <td>S26</td>\n",
       "      <td>0.014201</td>\n",
       "      <td>soil metagenome</td>\n",
       "    </tr>\n",
       "    <tr>\n",
       "      <th>DRR001458</th>\n",
       "      <td>S26</td>\n",
       "      <td>0.013491</td>\n",
       "      <td>soil metagenome</td>\n",
       "    </tr>\n",
       "    <tr>\n",
       "      <th>DRR001459</th>\n",
       "      <td>S26</td>\n",
       "      <td>0.017278</td>\n",
       "      <td>soil metagenome</td>\n",
       "    </tr>\n",
       "  </tbody>\n",
       "</table>\n",
       "</div>"
      ],
      "text/plain": [
       "          query  containment   ScientificName\n",
       "Run                                          \n",
       "DRR001455   S26     0.018225  soil metagenome\n",
       "DRR001456   S26     0.012544  soil metagenome\n",
       "DRR001457   S26     0.014201  soil metagenome\n",
       "DRR001458   S26     0.013491  soil metagenome\n",
       "DRR001459   S26     0.017278  soil metagenome"
      ]
     },
     "execution_count": 47,
     "metadata": {},
     "output_type": "execute_result"
    }
   ],
   "source": [
    "marine_df.head()"
   ]
  },
  {
   "cell_type": "markdown",
   "id": "615fe84a-4b41-4f6f-a5de-96cea60a0c18",
   "metadata": {},
   "source": [
    "# Start looking at the results!"
   ]
  },
  {
   "cell_type": "code",
   "execution_count": 39,
   "id": "5b416e8e-5511-451f-b37a-a688c8f254dd",
   "metadata": {},
   "outputs": [
    {
     "data": {
      "text/plain": [
       "soil metagenome                   12975\n",
       "marine metagenome                  7671\n",
       "metagenome                         5904\n",
       "wastewater metagenome              4551\n",
       "sediment metagenome                3475\n",
       "freshwater metagenome              2907\n",
       "activated sludge metagenome        1944\n",
       "gut metagenome                     1787\n",
       "aquatic metagenome                 1518\n",
       "seawater metagenome                1407\n",
       "peat metagenome                    1188\n",
       "freshwater sediment metagenome      996\n",
       "rhizosphere metagenome              956\n",
       "bioreactor metagenome               950\n",
       "lake water metagenome               933\n",
       "bovine gut metagenome               914\n",
       "biofilm metagenome                  783\n",
       "marine sediment metagenome          727\n",
       "groundwater metagenome              596\n",
       "root metagenome                     575\n",
       "Name: ScientificName, dtype: int64"
      ]
     },
     "execution_count": 39,
     "metadata": {},
     "output_type": "execute_result"
    }
   ],
   "source": [
    "# what are the top ScientificNames of the matches?\n",
    "marine_df[\"ScientificName\"].value_counts()[:20]"
   ]
  },
  {
   "cell_type": "code",
   "execution_count": 40,
   "id": "268bda0f-3133-4fb3-a498-db66458a3eba",
   "metadata": {},
   "outputs": [
    {
     "data": {
      "text/plain": [
       "marine metagenome              6014\n",
       "soil metagenome                3521\n",
       "metagenome                     3425\n",
       "gut metagenome                 3285\n",
       "human gut metagenome           3201\n",
       "wastewater metagenome          1987\n",
       "pig gut metagenome             1190\n",
       "freshwater metagenome          1163\n",
       "sediment metagenome            1152\n",
       "bovine gut metagenome          1136\n",
       "human metagenome               1134\n",
       "human vaginal metagenome        803\n",
       "mouse gut metagenome            745\n",
       "human skin metagenome           683\n",
       "feces metagenome                671\n",
       "seawater metagenome             545\n",
       "activated sludge metagenome     474\n",
       "peat metagenome                 465\n",
       "lake water metagenome           463\n",
       "aquatic metagenome              457\n",
       "Name: ScientificName, dtype: int64"
      ]
     },
     "execution_count": 40,
     "metadata": {},
     "output_type": "execute_result"
    }
   ],
   "source": [
    "# what are the top ScientificNames of the matches?\n",
    "vg_df[\"ScientificName\"].value_counts()[:20]"
   ]
  },
  {
   "cell_type": "markdown",
   "id": "46ef18cd-9988-46a4-924f-98a84ce74868",
   "metadata": {},
   "source": [
    "## Sort Results by Containment\n",
    "\n",
    "The default threshold for containment is 0.01, which means ~1% of the query genome needs to be found in the metagenome for it to be reported. That's not very stringent!\n",
    "\n",
    "First, let's look at the SRA runs that had the **best** containment of our queries:"
   ]
  },
  {
   "cell_type": "code",
   "execution_count": 61,
   "id": "49b25404-e94c-434c-ac59-4cd21ae7ad80",
   "metadata": {},
   "outputs": [
    {
     "data": {
      "text/html": [
       "<div>\n",
       "<style scoped>\n",
       "    .dataframe tbody tr th:only-of-type {\n",
       "        vertical-align: middle;\n",
       "    }\n",
       "\n",
       "    .dataframe tbody tr th {\n",
       "        vertical-align: top;\n",
       "    }\n",
       "\n",
       "    .dataframe thead th {\n",
       "        text-align: right;\n",
       "    }\n",
       "</style>\n",
       "<table border=\"1\" class=\"dataframe\">\n",
       "  <thead>\n",
       "    <tr style=\"text-align: right;\">\n",
       "      <th></th>\n",
       "      <th>query</th>\n",
       "      <th>containment</th>\n",
       "      <th>ScientificName</th>\n",
       "    </tr>\n",
       "    <tr>\n",
       "      <th>Run</th>\n",
       "      <th></th>\n",
       "      <th></th>\n",
       "      <th></th>\n",
       "    </tr>\n",
       "  </thead>\n",
       "  <tbody>\n",
       "    <tr>\n",
       "      <th>ERR2094172</th>\n",
       "      <td>S26</td>\n",
       "      <td>0.461775</td>\n",
       "      <td>metagenome</td>\n",
       "    </tr>\n",
       "    <tr>\n",
       "      <th>SRR6675345</th>\n",
       "      <td>S26</td>\n",
       "      <td>0.384852</td>\n",
       "      <td>gut metagenome</td>\n",
       "    </tr>\n",
       "    <tr>\n",
       "      <th>SRR12112861</th>\n",
       "      <td>S26</td>\n",
       "      <td>0.285207</td>\n",
       "      <td>seawater metagenome</td>\n",
       "    </tr>\n",
       "    <tr>\n",
       "      <th>ERR4674711</th>\n",
       "      <td>S26</td>\n",
       "      <td>0.281183</td>\n",
       "      <td>marine metagenome</td>\n",
       "    </tr>\n",
       "    <tr>\n",
       "      <th>ERR4592245</th>\n",
       "      <td>S26</td>\n",
       "      <td>0.267692</td>\n",
       "      <td>seagrass metagenome</td>\n",
       "    </tr>\n",
       "    <tr>\n",
       "      <th>ERR2094169</th>\n",
       "      <td>S26</td>\n",
       "      <td>0.250414</td>\n",
       "      <td>metagenome</td>\n",
       "    </tr>\n",
       "    <tr>\n",
       "      <th>SRR12918224</th>\n",
       "      <td>S26</td>\n",
       "      <td>0.244734</td>\n",
       "      <td>soil metagenome</td>\n",
       "    </tr>\n",
       "    <tr>\n",
       "      <th>ERR2094168</th>\n",
       "      <td>S26</td>\n",
       "      <td>0.239290</td>\n",
       "      <td>metagenome</td>\n",
       "    </tr>\n",
       "    <tr>\n",
       "      <th>SRR12112859</th>\n",
       "      <td>S26</td>\n",
       "      <td>0.229822</td>\n",
       "      <td>seawater metagenome</td>\n",
       "    </tr>\n",
       "    <tr>\n",
       "      <th>SRR6877521</th>\n",
       "      <td>S26</td>\n",
       "      <td>0.228166</td>\n",
       "      <td>biofilm metagenome</td>\n",
       "    </tr>\n",
       "    <tr>\n",
       "      <th>SRR8497107</th>\n",
       "      <td>S26</td>\n",
       "      <td>0.227456</td>\n",
       "      <td>biofilm metagenome</td>\n",
       "    </tr>\n",
       "    <tr>\n",
       "      <th>SRR9037724</th>\n",
       "      <td>S26</td>\n",
       "      <td>0.212544</td>\n",
       "      <td>aquatic metagenome</td>\n",
       "    </tr>\n",
       "    <tr>\n",
       "      <th>SRR8497102</th>\n",
       "      <td>S26</td>\n",
       "      <td>0.212071</td>\n",
       "      <td>biofilm metagenome</td>\n",
       "    </tr>\n",
       "    <tr>\n",
       "      <th>SRR16548371</th>\n",
       "      <td>S26</td>\n",
       "      <td>0.211361</td>\n",
       "      <td>aquatic metagenome</td>\n",
       "    </tr>\n",
       "    <tr>\n",
       "      <th>SRR16548368</th>\n",
       "      <td>S26</td>\n",
       "      <td>0.209941</td>\n",
       "      <td>aquatic metagenome</td>\n",
       "    </tr>\n",
       "    <tr>\n",
       "      <th>SRR16548364</th>\n",
       "      <td>S26</td>\n",
       "      <td>0.209467</td>\n",
       "      <td>aquatic metagenome</td>\n",
       "    </tr>\n",
       "    <tr>\n",
       "      <th>ERR2179510</th>\n",
       "      <td>S26</td>\n",
       "      <td>0.208521</td>\n",
       "      <td>metagenome</td>\n",
       "    </tr>\n",
       "    <tr>\n",
       "      <th>SRR7216773</th>\n",
       "      <td>S26</td>\n",
       "      <td>0.208521</td>\n",
       "      <td>hydrothermal vent metagenome</td>\n",
       "    </tr>\n",
       "    <tr>\n",
       "      <th>SRR16548366</th>\n",
       "      <td>S26</td>\n",
       "      <td>0.208047</td>\n",
       "      <td>aquatic metagenome</td>\n",
       "    </tr>\n",
       "    <tr>\n",
       "      <th>ERR2179512</th>\n",
       "      <td>S26</td>\n",
       "      <td>0.204260</td>\n",
       "      <td>metagenome</td>\n",
       "    </tr>\n",
       "  </tbody>\n",
       "</table>\n",
       "</div>"
      ],
      "text/plain": [
       "            query  containment                ScientificName\n",
       "Run                                                         \n",
       "ERR2094172    S26     0.461775                    metagenome\n",
       "SRR6675345    S26     0.384852                gut metagenome\n",
       "SRR12112861   S26     0.285207           seawater metagenome\n",
       "ERR4674711    S26     0.281183             marine metagenome\n",
       "ERR4592245    S26     0.267692           seagrass metagenome\n",
       "ERR2094169    S26     0.250414                    metagenome\n",
       "SRR12918224   S26     0.244734               soil metagenome\n",
       "ERR2094168    S26     0.239290                    metagenome\n",
       "SRR12112859   S26     0.229822           seawater metagenome\n",
       "SRR6877521    S26     0.228166            biofilm metagenome\n",
       "SRR8497107    S26     0.227456            biofilm metagenome\n",
       "SRR9037724    S26     0.212544            aquatic metagenome\n",
       "SRR8497102    S26     0.212071            biofilm metagenome\n",
       "SRR16548371   S26     0.211361            aquatic metagenome\n",
       "SRR16548368   S26     0.209941            aquatic metagenome\n",
       "SRR16548364   S26     0.209467            aquatic metagenome\n",
       "ERR2179510    S26     0.208521                    metagenome\n",
       "SRR7216773    S26     0.208521  hydrothermal vent metagenome\n",
       "SRR16548366   S26     0.208047            aquatic metagenome\n",
       "ERR2179512    S26     0.204260                    metagenome"
      ]
     },
     "execution_count": 61,
     "metadata": {},
     "output_type": "execute_result"
    }
   ],
   "source": [
    "marine_df.sort_values(by=['containment'], ascending=False)[:20]"
   ]
  },
  {
   "cell_type": "code",
   "execution_count": 62,
   "id": "de17c067-a8b7-4b9b-bb23-5407938f0bea",
   "metadata": {},
   "outputs": [
    {
     "data": {
      "text/html": [
       "<div>\n",
       "<style scoped>\n",
       "    .dataframe tbody tr th:only-of-type {\n",
       "        vertical-align: middle;\n",
       "    }\n",
       "\n",
       "    .dataframe tbody tr th {\n",
       "        vertical-align: top;\n",
       "    }\n",
       "\n",
       "    .dataframe thead th {\n",
       "        text-align: right;\n",
       "    }\n",
       "</style>\n",
       "<table border=\"1\" class=\"dataframe\">\n",
       "  <thead>\n",
       "    <tr style=\"text-align: right;\">\n",
       "      <th></th>\n",
       "      <th>query</th>\n",
       "      <th>containment</th>\n",
       "      <th>ScientificName</th>\n",
       "    </tr>\n",
       "    <tr>\n",
       "      <th>Run</th>\n",
       "      <th></th>\n",
       "      <th></th>\n",
       "      <th></th>\n",
       "    </tr>\n",
       "  </thead>\n",
       "  <tbody>\n",
       "    <tr>\n",
       "      <th>SRR063897</th>\n",
       "      <td>FV_PB189-T1-4_genome</td>\n",
       "      <td>1.000000</td>\n",
       "      <td>human metagenome</td>\n",
       "    </tr>\n",
       "    <tr>\n",
       "      <th>SRR16916862</th>\n",
       "      <td>FV_DSM_15829_genome</td>\n",
       "      <td>0.887097</td>\n",
       "      <td>human metagenome</td>\n",
       "    </tr>\n",
       "    <tr>\n",
       "      <th>SRR17635738</th>\n",
       "      <td>FV_DSM_15829_genome</td>\n",
       "      <td>0.887097</td>\n",
       "      <td>human vaginal metagenome</td>\n",
       "    </tr>\n",
       "    <tr>\n",
       "      <th>SRR17635741</th>\n",
       "      <td>FV_DSM_15829_genome</td>\n",
       "      <td>0.881720</td>\n",
       "      <td>human vaginal metagenome</td>\n",
       "    </tr>\n",
       "    <tr>\n",
       "      <th>SRR17635737</th>\n",
       "      <td>FV_DSM_15829_genome</td>\n",
       "      <td>0.881720</td>\n",
       "      <td>human vaginal metagenome</td>\n",
       "    </tr>\n",
       "    <tr>\n",
       "      <th>SRR17635740</th>\n",
       "      <td>FV_DSM_15829_genome</td>\n",
       "      <td>0.876344</td>\n",
       "      <td>human vaginal metagenome</td>\n",
       "    </tr>\n",
       "    <tr>\n",
       "      <th>SRR17635596</th>\n",
       "      <td>FV_DSM_15829_genome</td>\n",
       "      <td>0.876344</td>\n",
       "      <td>human vaginal metagenome</td>\n",
       "    </tr>\n",
       "    <tr>\n",
       "      <th>SRR16916861</th>\n",
       "      <td>FV_DSM_15829_genome</td>\n",
       "      <td>0.870968</td>\n",
       "      <td>human metagenome</td>\n",
       "    </tr>\n",
       "    <tr>\n",
       "      <th>SRR17635689</th>\n",
       "      <td>FV_DSM_15829_genome</td>\n",
       "      <td>0.865591</td>\n",
       "      <td>human vaginal metagenome</td>\n",
       "    </tr>\n",
       "    <tr>\n",
       "      <th>SRR16916853</th>\n",
       "      <td>FV_DSM_15829_genome</td>\n",
       "      <td>0.854839</td>\n",
       "      <td>human metagenome</td>\n",
       "    </tr>\n",
       "    <tr>\n",
       "      <th>SRR16916866</th>\n",
       "      <td>FV_DSM_15829_genome</td>\n",
       "      <td>0.849462</td>\n",
       "      <td>human metagenome</td>\n",
       "    </tr>\n",
       "    <tr>\n",
       "      <th>SRR16916874</th>\n",
       "      <td>FV_PB189-T1-4_genome</td>\n",
       "      <td>0.846975</td>\n",
       "      <td>human metagenome</td>\n",
       "    </tr>\n",
       "    <tr>\n",
       "      <th>SRR513452</th>\n",
       "      <td>FV_DSM_15829_genome</td>\n",
       "      <td>0.844086</td>\n",
       "      <td>human metagenome</td>\n",
       "    </tr>\n",
       "    <tr>\n",
       "      <th>SRR12830913</th>\n",
       "      <td>FV_DSM_15829_genome</td>\n",
       "      <td>0.844086</td>\n",
       "      <td>Homo sapiens</td>\n",
       "    </tr>\n",
       "    <tr>\n",
       "      <th>SRR17635687</th>\n",
       "      <td>FV_DSM_15829_genome</td>\n",
       "      <td>0.838710</td>\n",
       "      <td>human vaginal metagenome</td>\n",
       "    </tr>\n",
       "    <tr>\n",
       "      <th>SRR17635764</th>\n",
       "      <td>FV_PB189-T1-4_genome</td>\n",
       "      <td>0.836299</td>\n",
       "      <td>human vaginal metagenome</td>\n",
       "    </tr>\n",
       "    <tr>\n",
       "      <th>SRR17635515</th>\n",
       "      <td>FV_DSM_15829_genome</td>\n",
       "      <td>0.833333</td>\n",
       "      <td>human vaginal metagenome</td>\n",
       "    </tr>\n",
       "    <tr>\n",
       "      <th>SRR628264</th>\n",
       "      <td>FV_DSM_15829_genome</td>\n",
       "      <td>0.833333</td>\n",
       "      <td>human metagenome</td>\n",
       "    </tr>\n",
       "    <tr>\n",
       "      <th>SRR17635685</th>\n",
       "      <td>FV_DSM_15829_genome</td>\n",
       "      <td>0.827957</td>\n",
       "      <td>human vaginal metagenome</td>\n",
       "    </tr>\n",
       "    <tr>\n",
       "      <th>SRR17635658</th>\n",
       "      <td>FV_DSM_15829_genome</td>\n",
       "      <td>0.827957</td>\n",
       "      <td>human vaginal metagenome</td>\n",
       "    </tr>\n",
       "  </tbody>\n",
       "</table>\n",
       "</div>"
      ],
      "text/plain": [
       "                            query  containment            ScientificName\n",
       "Run                                                                     \n",
       "SRR063897    FV_PB189-T1-4_genome     1.000000          human metagenome\n",
       "SRR16916862   FV_DSM_15829_genome     0.887097          human metagenome\n",
       "SRR17635738   FV_DSM_15829_genome     0.887097  human vaginal metagenome\n",
       "SRR17635741   FV_DSM_15829_genome     0.881720  human vaginal metagenome\n",
       "SRR17635737   FV_DSM_15829_genome     0.881720  human vaginal metagenome\n",
       "SRR17635740   FV_DSM_15829_genome     0.876344  human vaginal metagenome\n",
       "SRR17635596   FV_DSM_15829_genome     0.876344  human vaginal metagenome\n",
       "SRR16916861   FV_DSM_15829_genome     0.870968          human metagenome\n",
       "SRR17635689   FV_DSM_15829_genome     0.865591  human vaginal metagenome\n",
       "SRR16916853   FV_DSM_15829_genome     0.854839          human metagenome\n",
       "SRR16916866   FV_DSM_15829_genome     0.849462          human metagenome\n",
       "SRR16916874  FV_PB189-T1-4_genome     0.846975          human metagenome\n",
       "SRR513452     FV_DSM_15829_genome     0.844086          human metagenome\n",
       "SRR12830913   FV_DSM_15829_genome     0.844086              Homo sapiens\n",
       "SRR17635687   FV_DSM_15829_genome     0.838710  human vaginal metagenome\n",
       "SRR17635764  FV_PB189-T1-4_genome     0.836299  human vaginal metagenome\n",
       "SRR17635515   FV_DSM_15829_genome     0.833333  human vaginal metagenome\n",
       "SRR628264     FV_DSM_15829_genome     0.833333          human metagenome\n",
       "SRR17635685   FV_DSM_15829_genome     0.827957  human vaginal metagenome\n",
       "SRR17635658   FV_DSM_15829_genome     0.827957  human vaginal metagenome"
      ]
     },
     "execution_count": 62,
     "metadata": {},
     "output_type": "execute_result"
    }
   ],
   "source": [
    "vg_df.sort_values(by=['containment'], ascending=False)[:20]"
   ]
  },
  {
   "cell_type": "markdown",
   "id": "e232c7eb-e6f7-4d52-84dc-b990c664f5e1",
   "metadata": {},
   "source": [
    "## Filter Results by Containment\n",
    "\n",
    "We've found (rule of thumb) that 0.2 is a decent value - 20% - indicating some level of stringency. Let's take a look -"
   ]
  },
  {
   "cell_type": "code",
   "execution_count": 63,
   "id": "d004def4-fe45-4b12-bd26-929d42881d0a",
   "metadata": {},
   "outputs": [
    {
     "name": "stdout",
     "output_type": "stream",
     "text": [
      "query type: marine\n",
      "total matches: 24\n",
      "query: 1\n",
      "metagenomes: 24\n",
      "\n",
      "\n",
      "metagenome                      5\n",
      "aquatic metagenome              5\n",
      "biofilm metagenome              3\n",
      "macroalgae metagenome           2\n",
      "seawater metagenome             2\n",
      "hydrothermal vent metagenome    2\n",
      "seagrass metagenome             1\n",
      "marine metagenome               1\n",
      "soil metagenome                 1\n",
      "marine sediment metagenome      1\n",
      "gut metagenome                  1\n",
      "Name: ScientificName, dtype: int64 \n",
      "\n",
      "\n",
      "query type: vaginal\n",
      "total matches: 1113\n",
      "query: 2\n",
      "metagenomes: 938\n",
      "\n",
      "\n",
      "human vaginal metagenome                381\n",
      "human metagenome                        254\n",
      "human gut metagenome                    126\n",
      "vaginal metagenome                       89\n",
      "human skin metagenome                    82\n",
      "metagenome                               56\n",
      "Homo sapiens                             31\n",
      "urine metagenome                         20\n",
      "gut metagenome                           15\n",
      "Chlamydia trachomatis                    10\n",
      "human reproductive system metagenome     10\n",
      "human lung metagenome                     9\n",
      "indoor metagenome                         5\n",
      "skin metagenome                           5\n",
      "human urinary tract metagenome            4\n",
      "feces metagenome                          2\n",
      "aerosol metagenome                        2\n",
      "urinary tract metagenome                  2\n",
      "money metagenome                          2\n",
      "human eye metagenome                      2\n",
      "Name: ScientificName, dtype: int64 \n",
      "\n",
      "\n"
     ]
    }
   ],
   "source": [
    "# let's do some filtering -\n",
    "#magsearch4_df = magsearch3_df[magsearch3_df['containment'] > 0.2]\n",
    "marine_df2 = marine_df[marine_df['containment'] > 0.2]\n",
    "vg_df2 = vg_df[vg_df['containment'] > 0.2]\n",
    "\n",
    "for name, df in {\"marine\": marine_df2, \"vaginal\": vg_df2}.items():\n",
    "    print('query type:', name)\n",
    "    print('total matches:', len(df))\n",
    "    print('query:', len(set(df[\"query\"])))\n",
    "    print('metagenomes:', len(set(df.index)))\n",
    "    print(\"\\n\")\n",
    "    print(df[\"ScientificName\"].value_counts()[:20], \"\\n\\n\")"
   ]
  },
  {
   "cell_type": "markdown",
   "id": "ed1c11cd-7ec1-48f5-bee0-b242d461360b",
   "metadata": {},
   "source": [
    "## Now let's filter at >50%\n",
    "\n",
    "Especially for our vg query, we have a _lot_ of results. Let's be a bit more stringent."
   ]
  },
  {
   "cell_type": "code",
   "execution_count": 66,
   "id": "4feca4f3-2f33-46bf-a293-7f53d91b1459",
   "metadata": {},
   "outputs": [
    {
     "name": "stdout",
     "output_type": "stream",
     "text": [
      "query type: marine\n",
      "total matches: 0\n",
      "query: 0\n",
      "metagenomes: 0\n",
      "\n",
      "\n",
      "Series([], Name: ScientificName, dtype: int64) \n",
      "\n",
      "\n",
      "query type: vaginal\n",
      "total matches: 609\n",
      "query: 2\n",
      "metagenomes: 531\n",
      "\n",
      "\n",
      "human vaginal metagenome                246\n",
      "human metagenome                        200\n",
      "human gut metagenome                     38\n",
      "vaginal metagenome                       32\n",
      "Homo sapiens                             27\n",
      "human skin metagenome                    18\n",
      "metagenome                               13\n",
      "urine metagenome                          9\n",
      "human reproductive system metagenome      6\n",
      "human lung metagenome                     6\n",
      "gut metagenome                            3\n",
      "skin metagenome                           3\n",
      "indoor metagenome                         2\n",
      "feces metagenome                          1\n",
      "Human papillomavirus                      1\n",
      "urinary tract metagenome                  1\n",
      "hydrothermal vent metagenome              1\n",
      "money metagenome                          1\n",
      "lung metagenome                           1\n",
      "Name: ScientificName, dtype: int64 \n",
      "\n",
      "\n"
     ]
    }
   ],
   "source": [
    "marine_df3 = marine_df[marine_df['containment'] > 0.5]\n",
    "vg_df3 = vg_df[vg_df['containment'] > 0.5]\n",
    "\n",
    "for name, df in {\"marine\": marine_df3, \"vaginal\": vg_df3}.items():\n",
    "    print('query type:', name)\n",
    "    print('total matches:', len(df))\n",
    "    print('query:', len(set(df[\"query\"])))\n",
    "    print('metagenomes:', len(set(df.index)))\n",
    "    print(\"\\n\")\n",
    "    print(df[\"ScientificName\"].value_counts()[:20], \"\\n\\n\")"
   ]
  },
  {
   "cell_type": "code",
   "execution_count": 69,
   "id": "a8fcc7a9-2a37-4ba5-b4ed-98ab61018415",
   "metadata": {},
   "outputs": [
    {
     "data": {
      "text/plain": [
       "S26    8\n",
       "Name: query, dtype: int64"
      ]
     },
     "execution_count": 69,
     "metadata": {},
     "output_type": "execute_result"
    }
   ],
   "source": [
    "marine_only_df = marine_df2[marine_df2[\"ScientificName\"].isin(['marine metagenome', 'hydrothermal vent metagenome', 'aquatic metagenome'])]\n",
    "marine_only_df[\"query\"].value_counts()#[:20]"
   ]
  },
  {
   "cell_type": "code",
   "execution_count": 30,
   "id": "6051c546-6bb9-4a51-aa9e-cbc913208b66",
   "metadata": {},
   "outputs": [
    {
     "data": {
      "text/html": [
       "<div>\n",
       "<style scoped>\n",
       "    .dataframe tbody tr th:only-of-type {\n",
       "        vertical-align: middle;\n",
       "    }\n",
       "\n",
       "    .dataframe tbody tr th {\n",
       "        vertical-align: top;\n",
       "    }\n",
       "\n",
       "    .dataframe thead th {\n",
       "        text-align: right;\n",
       "    }\n",
       "</style>\n",
       "<table border=\"1\" class=\"dataframe\">\n",
       "  <thead>\n",
       "    <tr style=\"text-align: right;\">\n",
       "      <th></th>\n",
       "      <th>query</th>\n",
       "      <th>containment</th>\n",
       "      <th>ScientificName</th>\n",
       "    </tr>\n",
       "    <tr>\n",
       "      <th>Run</th>\n",
       "      <th></th>\n",
       "      <th></th>\n",
       "      <th></th>\n",
       "    </tr>\n",
       "  </thead>\n",
       "  <tbody>\n",
       "    <tr>\n",
       "      <th>ERR4674711</th>\n",
       "      <td>S26</td>\n",
       "      <td>0.281183</td>\n",
       "      <td>marine metagenome</td>\n",
       "    </tr>\n",
       "    <tr>\n",
       "      <th>SRR16548364</th>\n",
       "      <td>S26</td>\n",
       "      <td>0.209467</td>\n",
       "      <td>aquatic metagenome</td>\n",
       "    </tr>\n",
       "    <tr>\n",
       "      <th>SRR16548366</th>\n",
       "      <td>S26</td>\n",
       "      <td>0.208047</td>\n",
       "      <td>aquatic metagenome</td>\n",
       "    </tr>\n",
       "    <tr>\n",
       "      <th>SRR16548368</th>\n",
       "      <td>S26</td>\n",
       "      <td>0.209941</td>\n",
       "      <td>aquatic metagenome</td>\n",
       "    </tr>\n",
       "    <tr>\n",
       "      <th>SRR16548371</th>\n",
       "      <td>S26</td>\n",
       "      <td>0.211361</td>\n",
       "      <td>aquatic metagenome</td>\n",
       "    </tr>\n",
       "    <tr>\n",
       "      <th>SRR16916503</th>\n",
       "      <td>FV_DSM_15829_genome</td>\n",
       "      <td>0.543011</td>\n",
       "      <td>hydrothermal vent metagenome</td>\n",
       "    </tr>\n",
       "    <tr>\n",
       "      <th>SRR7207567</th>\n",
       "      <td>S26</td>\n",
       "      <td>0.204260</td>\n",
       "      <td>hydrothermal vent metagenome</td>\n",
       "    </tr>\n",
       "    <tr>\n",
       "      <th>SRR7216773</th>\n",
       "      <td>S26</td>\n",
       "      <td>0.208521</td>\n",
       "      <td>hydrothermal vent metagenome</td>\n",
       "    </tr>\n",
       "    <tr>\n",
       "      <th>SRR9037724</th>\n",
       "      <td>S26</td>\n",
       "      <td>0.212544</td>\n",
       "      <td>aquatic metagenome</td>\n",
       "    </tr>\n",
       "  </tbody>\n",
       "</table>\n",
       "</div>"
      ],
      "text/plain": [
       "                           query  containment                ScientificName\n",
       "Run                                                                        \n",
       "ERR4674711                   S26     0.281183             marine metagenome\n",
       "SRR16548364                  S26     0.209467            aquatic metagenome\n",
       "SRR16548366                  S26     0.208047            aquatic metagenome\n",
       "SRR16548368                  S26     0.209941            aquatic metagenome\n",
       "SRR16548371                  S26     0.211361            aquatic metagenome\n",
       "SRR16916503  FV_DSM_15829_genome     0.543011  hydrothermal vent metagenome\n",
       "SRR7207567                   S26     0.204260  hydrothermal vent metagenome\n",
       "SRR7216773                   S26     0.208521  hydrothermal vent metagenome\n",
       "SRR9037724                   S26     0.212544            aquatic metagenome"
      ]
     },
     "execution_count": 30,
     "metadata": {},
     "output_type": "execute_result"
    }
   ],
   "source": [
    "marine_only_df"
   ]
  },
  {
   "cell_type": "code",
   "execution_count": 67,
   "id": "b44880f2-7bf9-40e1-ad96-9982ea9f174b",
   "metadata": {},
   "outputs": [
    {
     "data": {
      "text/plain": [
       "FV_DSM_15829_genome     273\n",
       "FV_PB189-T1-4_genome    108\n",
       "Name: query, dtype: int64"
      ]
     },
     "execution_count": 67,
     "metadata": {},
     "output_type": "execute_result"
    }
   ],
   "source": [
    "vg_only_df = magsearch4_df[magsearch4_df[\"ScientificName\"] == 'human vaginal metagenome']\n",
    "vg_only_df[\"query\"].value_counts()#[:20]"
   ]
  },
  {
   "cell_type": "code",
   "execution_count": null,
   "id": "f280906d-ba07-455b-874e-a3f8290e1f19",
   "metadata": {},
   "outputs": [],
   "source": []
  },
  {
   "cell_type": "code",
   "execution_count": null,
   "id": "5f67f9cf-fd5f-4cbd-a400-48060ba0196d",
   "metadata": {},
   "outputs": [],
   "source": []
  }
 ],
 "metadata": {
  "kernelspec": {
   "display_name": "Python 3 (ipykernel)",
   "language": "python",
   "name": "python3"
  },
  "language_info": {
   "codemirror_mode": {
    "name": "ipython",
    "version": 3
   },
   "file_extension": ".py",
   "mimetype": "text/x-python",
   "name": "python",
   "nbconvert_exporter": "python",
   "pygments_lexer": "ipython3",
   "version": "3.8.13"
  }
 },
 "nbformat": 4,
 "nbformat_minor": 5
}
