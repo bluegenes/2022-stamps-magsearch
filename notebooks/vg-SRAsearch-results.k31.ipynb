{
 "cells": [
  {
   "cell_type": "code",
   "execution_count": 1,
   "id": "c87df813-1369-48ca-b834-3084d202d2b9",
   "metadata": {},
   "outputs": [],
   "source": [
    "%matplotlib inline\n",
    "import pandas as pd\n",
    "\n",
    "import os"
   ]
  },
  {
   "cell_type": "markdown",
   "id": "d87f246c-5f2e-4ef0-80e8-0306a13fab89",
   "metadata": {},
   "source": [
    "# Load in SRA metadata and search results"
   ]
  },
  {
   "cell_type": "markdown",
   "id": "9f667fe2-8f3e-4133-8403-f908cc458da5",
   "metadata": {},
   "source": [
    "### Load in SRA metadata info:\n",
    "\n",
    "This is the 'run info' that you can download from NCBI in bulk; it's got one entry for every accession, approximately."
   ]
  },
  {
   "cell_type": "code",
   "execution_count": 2,
   "id": "8b41690c-bd11-421d-87d7-713e3d1bfa4c",
   "metadata": {},
   "outputs": [
    {
     "name": "stderr",
     "output_type": "stream",
     "text": [
      "/var/folders/1c/s23lyl9x7cgd1rg4n6t867qr0000gn/T/ipykernel_10136/1351821980.py:1: DtypeWarning: Columns (8,33,38,39,40,43) have mixed types. Specify dtype option on import or set low_memory=False.\n",
      "  run_info = pd.read_csv('../big.runinfo.csv.gz')\n"
     ]
    }
   ],
   "source": [
    "run_info = pd.read_csv('../big.runinfo.csv.gz')"
   ]
  },
  {
   "cell_type": "markdown",
   "id": "264529dd-5a50-49a6-8838-1494093ab614",
   "metadata": {},
   "source": [
    "The two most important columns for our purposes are 'Run' and 'ScientificName':"
   ]
  },
  {
   "cell_type": "code",
   "execution_count": 3,
   "id": "c6616fbc-3601-4060-a8ba-135b6a1621a4",
   "metadata": {},
   "outputs": [
    {
     "name": "stdout",
     "output_type": "stream",
     "text": [
      "Index(['Run', 'ReleaseDate', 'LoadDate', 'spots', 'bases', 'spots_with_mates',\n",
      "       'avgLength', 'size_MB', 'AssemblyName', 'download_path', 'Experiment',\n",
      "       'LibraryName', 'LibraryStrategy', 'LibrarySelection', 'LibrarySource',\n",
      "       'LibraryLayout', 'InsertSize', 'InsertDev', 'Platform', 'Model',\n",
      "       'SRAStudy', 'BioProject', 'Study_Pubmed_id', 'ProjectID', 'Sample',\n",
      "       'BioSample', 'SampleType', 'TaxID', 'ScientificName', 'SampleName',\n",
      "       'g1k_pop_code', 'source', 'g1k_analysis_group', 'Subject_ID', 'Sex',\n",
      "       'Disease', 'Tumor', 'Affection_Status', 'Analyte_Type',\n",
      "       'Histological_Type', 'Body_Site', 'CenterName', 'Submission',\n",
      "       'dbgap_study_accession', 'Consent', 'RunHash', 'ReadHash'],\n",
      "      dtype='object')\n"
     ]
    },
    {
     "data": {
      "text/html": [
       "<div>\n",
       "<style scoped>\n",
       "    .dataframe tbody tr th:only-of-type {\n",
       "        vertical-align: middle;\n",
       "    }\n",
       "\n",
       "    .dataframe tbody tr th {\n",
       "        vertical-align: top;\n",
       "    }\n",
       "\n",
       "    .dataframe thead th {\n",
       "        text-align: right;\n",
       "    }\n",
       "</style>\n",
       "<table border=\"1\" class=\"dataframe\">\n",
       "  <thead>\n",
       "    <tr style=\"text-align: right;\">\n",
       "      <th></th>\n",
       "      <th>Run</th>\n",
       "      <th>ScientificName</th>\n",
       "    </tr>\n",
       "  </thead>\n",
       "  <tbody>\n",
       "    <tr>\n",
       "      <th>0</th>\n",
       "      <td>SRR18036904</td>\n",
       "      <td>bovine metagenome</td>\n",
       "    </tr>\n",
       "    <tr>\n",
       "      <th>1</th>\n",
       "      <td>SRR18036905</td>\n",
       "      <td>bovine metagenome</td>\n",
       "    </tr>\n",
       "    <tr>\n",
       "      <th>2</th>\n",
       "      <td>SRR18036906</td>\n",
       "      <td>bovine metagenome</td>\n",
       "    </tr>\n",
       "    <tr>\n",
       "      <th>3</th>\n",
       "      <td>SRR18036907</td>\n",
       "      <td>bovine metagenome</td>\n",
       "    </tr>\n",
       "    <tr>\n",
       "      <th>4</th>\n",
       "      <td>SRR18036908</td>\n",
       "      <td>bovine metagenome</td>\n",
       "    </tr>\n",
       "  </tbody>\n",
       "</table>\n",
       "</div>"
      ],
      "text/plain": [
       "           Run     ScientificName\n",
       "0  SRR18036904  bovine metagenome\n",
       "1  SRR18036905  bovine metagenome\n",
       "2  SRR18036906  bovine metagenome\n",
       "3  SRR18036907  bovine metagenome\n",
       "4  SRR18036908  bovine metagenome"
      ]
     },
     "execution_count": 3,
     "metadata": {},
     "output_type": "execute_result"
    }
   ],
   "source": [
    "print(run_info.columns)\n",
    "\n",
    "run_info[['Run', 'ScientificName']].head()"
   ]
  },
  {
   "cell_type": "code",
   "execution_count": 4,
   "id": "eb33fd18-eba0-4e0d-a549-d63a31d2dabc",
   "metadata": {},
   "outputs": [
    {
     "data": {
      "text/plain": [
       "702013"
      ]
     },
     "execution_count": 4,
     "metadata": {},
     "output_type": "execute_result"
    }
   ],
   "source": [
    "# there are ~700,000 entries:\n",
    "len(run_info)"
   ]
  },
  {
   "cell_type": "code",
   "execution_count": 5,
   "id": "708d5974-f432-49de-a462-3b1ce04177b3",
   "metadata": {},
   "outputs": [],
   "source": [
    "run_info2 = run_info[['Run', 'ScientificName']]"
   ]
  },
  {
   "cell_type": "markdown",
   "id": "bbb720d8-4ca2-4fe8-addb-91b17d4e5271",
   "metadata": {},
   "source": [
    "### Now, load in the stamps MAGsearch results\n"
   ]
  },
  {
   "cell_type": "code",
   "execution_count": 6,
   "id": "3d1b2d3c-7714-425d-9fb7-3444f13a2fba",
   "metadata": {},
   "outputs": [
    {
     "name": "stdout",
     "output_type": "stream",
     "text": [
      "5527\n"
     ]
    },
    {
     "data": {
      "text/html": [
       "<div>\n",
       "<style scoped>\n",
       "    .dataframe tbody tr th:only-of-type {\n",
       "        vertical-align: middle;\n",
       "    }\n",
       "\n",
       "    .dataframe tbody tr th {\n",
       "        vertical-align: top;\n",
       "    }\n",
       "\n",
       "    .dataframe thead th {\n",
       "        text-align: right;\n",
       "    }\n",
       "</style>\n",
       "<table border=\"1\" class=\"dataframe\">\n",
       "  <thead>\n",
       "    <tr style=\"text-align: right;\">\n",
       "      <th></th>\n",
       "      <th>query</th>\n",
       "      <th>Run</th>\n",
       "      <th>containment</th>\n",
       "    </tr>\n",
       "  </thead>\n",
       "  <tbody>\n",
       "    <tr>\n",
       "      <th>0</th>\n",
       "      <td>FV_DSM_15829_genome</td>\n",
       "      <td>/group/ctbrowngrp/irber/data/wort-data/wort-sr...</td>\n",
       "      <td>0.038168</td>\n",
       "    </tr>\n",
       "    <tr>\n",
       "      <th>1</th>\n",
       "      <td>FV_DSM_15829_genome</td>\n",
       "      <td>/group/ctbrowngrp/irber/data/wort-data/wort-sr...</td>\n",
       "      <td>0.091603</td>\n",
       "    </tr>\n",
       "    <tr>\n",
       "      <th>2</th>\n",
       "      <td>FV_PB189-T1-4_genome</td>\n",
       "      <td>/group/ctbrowngrp/irber/data/wort-data/wort-sr...</td>\n",
       "      <td>0.037313</td>\n",
       "    </tr>\n",
       "    <tr>\n",
       "      <th>3</th>\n",
       "      <td>FV_DSM_15829_genome</td>\n",
       "      <td>/group/ctbrowngrp/irber/data/wort-data/wort-sr...</td>\n",
       "      <td>0.351145</td>\n",
       "    </tr>\n",
       "    <tr>\n",
       "      <th>4</th>\n",
       "      <td>FV_PB189-T1-4_genome</td>\n",
       "      <td>/group/ctbrowngrp/irber/data/wort-data/wort-sr...</td>\n",
       "      <td>0.149254</td>\n",
       "    </tr>\n",
       "  </tbody>\n",
       "</table>\n",
       "</div>"
      ],
      "text/plain": [
       "                  query                                                Run  \\\n",
       "0   FV_DSM_15829_genome  /group/ctbrowngrp/irber/data/wort-data/wort-sr...   \n",
       "1   FV_DSM_15829_genome  /group/ctbrowngrp/irber/data/wort-data/wort-sr...   \n",
       "2  FV_PB189-T1-4_genome  /group/ctbrowngrp/irber/data/wort-data/wort-sr...   \n",
       "3   FV_DSM_15829_genome  /group/ctbrowngrp/irber/data/wort-data/wort-sr...   \n",
       "4  FV_PB189-T1-4_genome  /group/ctbrowngrp/irber/data/wort-data/wort-sr...   \n",
       "\n",
       "   containment  \n",
       "0     0.038168  \n",
       "1     0.091603  \n",
       "2     0.037313  \n",
       "3     0.351145  \n",
       "4     0.149254  "
      ]
     },
     "execution_count": 6,
     "metadata": {},
     "output_type": "execute_result"
    }
   ],
   "source": [
    "magsearch_df = pd.read_csv('../output.magsearch.k31/results/stamps.csv', quotechar=\"'\")\n",
    "print(len(magsearch_df))\n",
    "magsearch_df.head()"
   ]
  },
  {
   "cell_type": "markdown",
   "id": "077b99ca-c872-4cb3-a7d4-c1b5cee0993a",
   "metadata": {},
   "source": [
    "# Make the results more human-readable and add SRA metadata info"
   ]
  },
  {
   "cell_type": "markdown",
   "id": "4b5c7c9f-305e-4536-9afd-46f0cdf8bf06",
   "metadata": {},
   "source": [
    "### First, we need to take the filenames in the 'Run' column and turn them into accessions."
   ]
  },
  {
   "cell_type": "code",
   "execution_count": 7,
   "id": "8771b38b-b90e-4ab5-bc76-a0aa4814ebb1",
   "metadata": {},
   "outputs": [
    {
     "data": {
      "text/html": [
       "<div>\n",
       "<style scoped>\n",
       "    .dataframe tbody tr th:only-of-type {\n",
       "        vertical-align: middle;\n",
       "    }\n",
       "\n",
       "    .dataframe tbody tr th {\n",
       "        vertical-align: top;\n",
       "    }\n",
       "\n",
       "    .dataframe thead th {\n",
       "        text-align: right;\n",
       "    }\n",
       "</style>\n",
       "<table border=\"1\" class=\"dataframe\">\n",
       "  <thead>\n",
       "    <tr style=\"text-align: right;\">\n",
       "      <th></th>\n",
       "      <th>query</th>\n",
       "      <th>Run</th>\n",
       "      <th>containment</th>\n",
       "    </tr>\n",
       "  </thead>\n",
       "  <tbody>\n",
       "    <tr>\n",
       "      <th>0</th>\n",
       "      <td>FV_DSM_15829_genome</td>\n",
       "      <td>ERR4333983</td>\n",
       "      <td>0.038168</td>\n",
       "    </tr>\n",
       "    <tr>\n",
       "      <th>1</th>\n",
       "      <td>FV_DSM_15829_genome</td>\n",
       "      <td>SRR17547361</td>\n",
       "      <td>0.091603</td>\n",
       "    </tr>\n",
       "    <tr>\n",
       "      <th>2</th>\n",
       "      <td>FV_PB189-T1-4_genome</td>\n",
       "      <td>SRR17547361</td>\n",
       "      <td>0.037313</td>\n",
       "    </tr>\n",
       "    <tr>\n",
       "      <th>3</th>\n",
       "      <td>FV_DSM_15829_genome</td>\n",
       "      <td>ERR2014370</td>\n",
       "      <td>0.351145</td>\n",
       "    </tr>\n",
       "    <tr>\n",
       "      <th>4</th>\n",
       "      <td>FV_PB189-T1-4_genome</td>\n",
       "      <td>ERR2014370</td>\n",
       "      <td>0.149254</td>\n",
       "    </tr>\n",
       "  </tbody>\n",
       "</table>\n",
       "</div>"
      ],
      "text/plain": [
       "                  query          Run  containment\n",
       "0   FV_DSM_15829_genome   ERR4333983     0.038168\n",
       "1   FV_DSM_15829_genome  SRR17547361     0.091603\n",
       "2  FV_PB189-T1-4_genome  SRR17547361     0.037313\n",
       "3   FV_DSM_15829_genome   ERR2014370     0.351145\n",
       "4  FV_PB189-T1-4_genome   ERR2014370     0.149254"
      ]
     },
     "execution_count": 7,
     "metadata": {},
     "output_type": "execute_result"
    }
   ],
   "source": [
    "def extract_run_acc(x):\n",
    "    # get just the end filename\n",
    "    x = os.path.basename(x)\n",
    "    # remove extension '.sig'\n",
    "    y, ext = os.path.splitext(x)\n",
    "    assert ext == '.sig', ext\n",
    "    return y\n",
    "\n",
    "# this can be used in case we have .gz, .fasta, .fa, etc in the query filename\n",
    "def remove_extension(x):\n",
    "    x = os.path.basename(x)\n",
    "    y, ext = os.path.splitext(x)\n",
    "    while ext in ('.gz', '.fasta', '.fa', '.fna'):\n",
    "        x = y\n",
    "        y, ext = os.path.splitext(x)\n",
    "    return y\n",
    "\n",
    "magsearch_df['Run'] = magsearch_df['Run'].apply(extract_run_acc)\n",
    "magsearch_df.head()"
   ]
  },
  {
   "cell_type": "markdown",
   "id": "44d21f4d-0371-4e46-8048-0153f6a7ab27",
   "metadata": {},
   "source": [
    "### Now we can correlate magsearch results with SRA RunInfo"
   ]
  },
  {
   "cell_type": "code",
   "execution_count": 8,
   "id": "b8772cdf-3781-4a80-b264-7f1b05c57530",
   "metadata": {},
   "outputs": [
    {
     "data": {
      "text/html": [
       "<div>\n",
       "<style scoped>\n",
       "    .dataframe tbody tr th:only-of-type {\n",
       "        vertical-align: middle;\n",
       "    }\n",
       "\n",
       "    .dataframe tbody tr th {\n",
       "        vertical-align: top;\n",
       "    }\n",
       "\n",
       "    .dataframe thead th {\n",
       "        text-align: right;\n",
       "    }\n",
       "</style>\n",
       "<table border=\"1\" class=\"dataframe\">\n",
       "  <thead>\n",
       "    <tr style=\"text-align: right;\">\n",
       "      <th></th>\n",
       "      <th>ScientificName</th>\n",
       "    </tr>\n",
       "    <tr>\n",
       "      <th>Run</th>\n",
       "      <th></th>\n",
       "    </tr>\n",
       "  </thead>\n",
       "  <tbody>\n",
       "    <tr>\n",
       "      <th>SRR18036904</th>\n",
       "      <td>bovine metagenome</td>\n",
       "    </tr>\n",
       "    <tr>\n",
       "      <th>SRR18036905</th>\n",
       "      <td>bovine metagenome</td>\n",
       "    </tr>\n",
       "    <tr>\n",
       "      <th>SRR18036906</th>\n",
       "      <td>bovine metagenome</td>\n",
       "    </tr>\n",
       "    <tr>\n",
       "      <th>SRR18036907</th>\n",
       "      <td>bovine metagenome</td>\n",
       "    </tr>\n",
       "    <tr>\n",
       "      <th>SRR18036908</th>\n",
       "      <td>bovine metagenome</td>\n",
       "    </tr>\n",
       "    <tr>\n",
       "      <th>...</th>\n",
       "      <td>...</td>\n",
       "    </tr>\n",
       "    <tr>\n",
       "      <th>SRR11108097</th>\n",
       "      <td>gut metagenome</td>\n",
       "    </tr>\n",
       "    <tr>\n",
       "      <th>SRR8144073</th>\n",
       "      <td>Uvigerina striata</td>\n",
       "    </tr>\n",
       "    <tr>\n",
       "      <th>SRR8144074</th>\n",
       "      <td>Uvigerina striata</td>\n",
       "    </tr>\n",
       "    <tr>\n",
       "      <th>SRR8144079</th>\n",
       "      <td>Valvulineria inflata</td>\n",
       "    </tr>\n",
       "    <tr>\n",
       "      <th>SRR8144080</th>\n",
       "      <td>Valvulineria inflata</td>\n",
       "    </tr>\n",
       "  </tbody>\n",
       "</table>\n",
       "<p>702013 rows × 1 columns</p>\n",
       "</div>"
      ],
      "text/plain": [
       "                   ScientificName\n",
       "Run                              \n",
       "SRR18036904     bovine metagenome\n",
       "SRR18036905     bovine metagenome\n",
       "SRR18036906     bovine metagenome\n",
       "SRR18036907     bovine metagenome\n",
       "SRR18036908     bovine metagenome\n",
       "...                           ...\n",
       "SRR11108097        gut metagenome\n",
       "SRR8144073      Uvigerina striata\n",
       "SRR8144074      Uvigerina striata\n",
       "SRR8144079   Valvulineria inflata\n",
       "SRR8144080   Valvulineria inflata\n",
       "\n",
       "[702013 rows x 1 columns]"
      ]
     },
     "execution_count": 8,
     "metadata": {},
     "output_type": "execute_result"
    }
   ],
   "source": [
    "run_info2.set_index('Run')#['ScientificName']"
   ]
  },
  {
   "cell_type": "code",
   "execution_count": 9,
   "id": "b0882b8f-6157-4209-9dc7-7ae57663c5a1",
   "metadata": {},
   "outputs": [
    {
     "data": {
      "text/html": [
       "<div>\n",
       "<style scoped>\n",
       "    .dataframe tbody tr th:only-of-type {\n",
       "        vertical-align: middle;\n",
       "    }\n",
       "\n",
       "    .dataframe tbody tr th {\n",
       "        vertical-align: top;\n",
       "    }\n",
       "\n",
       "    .dataframe thead th {\n",
       "        text-align: right;\n",
       "    }\n",
       "</style>\n",
       "<table border=\"1\" class=\"dataframe\">\n",
       "  <thead>\n",
       "    <tr style=\"text-align: right;\">\n",
       "      <th></th>\n",
       "      <th>query</th>\n",
       "      <th>containment</th>\n",
       "      <th>ScientificName</th>\n",
       "    </tr>\n",
       "    <tr>\n",
       "      <th>Run</th>\n",
       "      <th></th>\n",
       "      <th></th>\n",
       "      <th></th>\n",
       "    </tr>\n",
       "  </thead>\n",
       "  <tbody>\n",
       "    <tr>\n",
       "      <th>DRR042391</th>\n",
       "      <td>FV_DSM_15829_genome</td>\n",
       "      <td>0.030534</td>\n",
       "      <td>NaN</td>\n",
       "    </tr>\n",
       "    <tr>\n",
       "      <th>DRR042545</th>\n",
       "      <td>FV_DSM_15829_genome</td>\n",
       "      <td>0.022901</td>\n",
       "      <td>NaN</td>\n",
       "    </tr>\n",
       "    <tr>\n",
       "      <th>DRR042550</th>\n",
       "      <td>FV_DSM_15829_genome</td>\n",
       "      <td>0.022901</td>\n",
       "      <td>NaN</td>\n",
       "    </tr>\n",
       "    <tr>\n",
       "      <th>DRR042658</th>\n",
       "      <td>FV_DSM_15829_genome</td>\n",
       "      <td>0.015267</td>\n",
       "      <td>NaN</td>\n",
       "    </tr>\n",
       "    <tr>\n",
       "      <th>DRR086622</th>\n",
       "      <td>S26</td>\n",
       "      <td>0.020896</td>\n",
       "      <td>marine metagenome</td>\n",
       "    </tr>\n",
       "  </tbody>\n",
       "</table>\n",
       "</div>"
      ],
      "text/plain": [
       "                         query  containment     ScientificName\n",
       "Run                                                           \n",
       "DRR042391  FV_DSM_15829_genome     0.030534                NaN\n",
       "DRR042545  FV_DSM_15829_genome     0.022901                NaN\n",
       "DRR042550  FV_DSM_15829_genome     0.022901                NaN\n",
       "DRR042658  FV_DSM_15829_genome     0.015267                NaN\n",
       "DRR086622                  S26     0.020896  marine metagenome"
      ]
     },
     "execution_count": 9,
     "metadata": {},
     "output_type": "execute_result"
    }
   ],
   "source": [
    "magsearch2_df = magsearch_df.set_index('Run').join(run_info2.set_index('Run')['ScientificName'])\n",
    "magsearch2_df.head()"
   ]
  },
  {
   "cell_type": "markdown",
   "id": "2a83cf1a-2a17-4a22-8abb-53ab5efd2d1b",
   "metadata": {},
   "source": [
    "### Subset to just SRA results with good scientific names"
   ]
  },
  {
   "cell_type": "code",
   "execution_count": 10,
   "id": "6f7fc07c-3d9d-4013-81a4-9b06bc54e6be",
   "metadata": {},
   "outputs": [
    {
     "name": "stdout",
     "output_type": "stream",
     "text": [
      "601\n"
     ]
    }
   ],
   "source": [
    "# how many have 'null' scientific name?\n",
    "null_df = magsearch2_df[magsearch2_df['ScientificName'].isnull()]\n",
    "print(len(null_df))"
   ]
  },
  {
   "cell_type": "code",
   "execution_count": 11,
   "id": "5f364171-bb1d-4ae4-aa9a-35d7e51ad365",
   "metadata": {},
   "outputs": [
    {
     "name": "stdout",
     "output_type": "stream",
     "text": [
      "Of 5527 MAGsearch results, 4926 have non-null metadata (89.13%)\n"
     ]
    },
    {
     "data": {
      "text/html": [
       "<div>\n",
       "<style scoped>\n",
       "    .dataframe tbody tr th:only-of-type {\n",
       "        vertical-align: middle;\n",
       "    }\n",
       "\n",
       "    .dataframe tbody tr th {\n",
       "        vertical-align: top;\n",
       "    }\n",
       "\n",
       "    .dataframe thead th {\n",
       "        text-align: right;\n",
       "    }\n",
       "</style>\n",
       "<table border=\"1\" class=\"dataframe\">\n",
       "  <thead>\n",
       "    <tr style=\"text-align: right;\">\n",
       "      <th></th>\n",
       "      <th>query</th>\n",
       "      <th>containment</th>\n",
       "      <th>ScientificName</th>\n",
       "    </tr>\n",
       "    <tr>\n",
       "      <th>Run</th>\n",
       "      <th></th>\n",
       "      <th></th>\n",
       "      <th></th>\n",
       "    </tr>\n",
       "  </thead>\n",
       "  <tbody>\n",
       "    <tr>\n",
       "      <th>DRR086622</th>\n",
       "      <td>S26</td>\n",
       "      <td>0.020896</td>\n",
       "      <td>marine metagenome</td>\n",
       "    </tr>\n",
       "    <tr>\n",
       "      <th>DRR086623</th>\n",
       "      <td>S26</td>\n",
       "      <td>0.018140</td>\n",
       "      <td>marine metagenome</td>\n",
       "    </tr>\n",
       "    <tr>\n",
       "      <th>DRR086624</th>\n",
       "      <td>S26</td>\n",
       "      <td>0.019977</td>\n",
       "      <td>marine metagenome</td>\n",
       "    </tr>\n",
       "    <tr>\n",
       "      <th>DRR086640</th>\n",
       "      <td>S26</td>\n",
       "      <td>0.017451</td>\n",
       "      <td>marine metagenome</td>\n",
       "    </tr>\n",
       "    <tr>\n",
       "      <th>DRR086642</th>\n",
       "      <td>S26</td>\n",
       "      <td>0.024569</td>\n",
       "      <td>marine metagenome</td>\n",
       "    </tr>\n",
       "  </tbody>\n",
       "</table>\n",
       "</div>"
      ],
      "text/plain": [
       "          query  containment     ScientificName\n",
       "Run                                            \n",
       "DRR086622   S26     0.020896  marine metagenome\n",
       "DRR086623   S26     0.018140  marine metagenome\n",
       "DRR086624   S26     0.019977  marine metagenome\n",
       "DRR086640   S26     0.017451  marine metagenome\n",
       "DRR086642   S26     0.024569  marine metagenome"
      ]
     },
     "execution_count": 11,
     "metadata": {},
     "output_type": "execute_result"
    }
   ],
   "source": [
    "# pull out just the ones with good scientific names:\n",
    "magsearch3_df = magsearch2_df[~magsearch2_df['ScientificName'].isnull()]\n",
    "perc_non_null = len(magsearch3_df)/len(magsearch2_df)*100\n",
    "print(f\"Of {len(magsearch2_df)} MAGsearch results, {len(magsearch3_df)} have non-null metadata ({perc_non_null:.2f}%)\")\n",
    "magsearch3_df.head()"
   ]
  },
  {
   "cell_type": "code",
   "execution_count": 12,
   "id": "0f7e3d3a-ebce-44fb-87f9-1a3544a48fa2",
   "metadata": {},
   "outputs": [
    {
     "name": "stdout",
     "output_type": "stream",
     "text": [
      "4 independent queries in results\n"
     ]
    }
   ],
   "source": [
    "print(f'{len(set(magsearch3_df[\"query\"]))} independent queries in results')"
   ]
  },
  {
   "cell_type": "code",
   "execution_count": 13,
   "id": "fd3737a4-8581-4dd6-bf72-634ad76599d1",
   "metadata": {},
   "outputs": [
    {
     "data": {
      "text/plain": [
       "FV_DSM_15829_genome     3083\n",
       "FV_PB189-T1-4_genome     890\n",
       "S26                      841\n",
       "C3_T13_0                 112\n",
       "Name: query, dtype: int64"
      ]
     },
     "execution_count": 13,
     "metadata": {},
     "output_type": "execute_result"
    }
   ],
   "source": [
    "# how many matches do we have for each query?\n",
    "magsearch3_df[\"query\"].value_counts()#[:20]"
   ]
  },
  {
   "cell_type": "markdown",
   "id": "e8d14aef-7426-405f-ba87-b1a0ea3636f5",
   "metadata": {},
   "source": [
    "### Split Results by Query\n",
    "\n",
    "We two very different queries!  Let's split our results into a dataframe that only contains the marine queries.\n",
    "\n",
    "marine_queries = [\"S26\", \"C3_T13_0\"]\n",
    "\n",
    "vg_queries = [\"FV_DSM_15829_genome\", \"FV_PB189-T1-4_genome\"]"
   ]
  },
  {
   "cell_type": "code",
   "execution_count": 14,
   "id": "28f70078-1a2c-4aba-834c-6a9a07671ce9",
   "metadata": {},
   "outputs": [],
   "source": [
    "#marine_queries = [\"S26\", \"C3_T13_0\"]\n",
    "vg_queries = [\"FV_DSM_15829_genome\", \"FV_PB189-T1-4_genome\"]\n",
    "\n",
    "#marine_df = magsearch3_df[magsearch3_df[\"query\"].isin(marine_queries)]\n",
    "vg_df = magsearch3_df[magsearch3_df[\"query\"].isin(vg_queries)]"
   ]
  },
  {
   "cell_type": "code",
   "execution_count": 15,
   "id": "bad31459-2e2f-4272-8bc4-80f04d416eb4",
   "metadata": {},
   "outputs": [
    {
     "data": {
      "text/plain": [
       "array(['FV_DSM_15829_genome', 'FV_PB189-T1-4_genome'], dtype=object)"
      ]
     },
     "execution_count": 15,
     "metadata": {},
     "output_type": "execute_result"
    }
   ],
   "source": [
    "vg_df[\"query\"].unique()"
   ]
  },
  {
   "cell_type": "code",
   "execution_count": 16,
   "id": "32aacd62-2f49-4c5a-8801-96e93cde292f",
   "metadata": {},
   "outputs": [
    {
     "data": {
      "text/html": [
       "<div>\n",
       "<style scoped>\n",
       "    .dataframe tbody tr th:only-of-type {\n",
       "        vertical-align: middle;\n",
       "    }\n",
       "\n",
       "    .dataframe tbody tr th {\n",
       "        vertical-align: top;\n",
       "    }\n",
       "\n",
       "    .dataframe thead th {\n",
       "        text-align: right;\n",
       "    }\n",
       "</style>\n",
       "<table border=\"1\" class=\"dataframe\">\n",
       "  <thead>\n",
       "    <tr style=\"text-align: right;\">\n",
       "      <th></th>\n",
       "      <th>query</th>\n",
       "      <th>containment</th>\n",
       "      <th>ScientificName</th>\n",
       "    </tr>\n",
       "    <tr>\n",
       "      <th>Run</th>\n",
       "      <th></th>\n",
       "      <th></th>\n",
       "      <th></th>\n",
       "    </tr>\n",
       "  </thead>\n",
       "  <tbody>\n",
       "    <tr>\n",
       "      <th>DRR127774</th>\n",
       "      <td>FV_DSM_15829_genome</td>\n",
       "      <td>0.137405</td>\n",
       "      <td>human gut metagenome</td>\n",
       "    </tr>\n",
       "    <tr>\n",
       "      <th>DRR162207</th>\n",
       "      <td>FV_DSM_15829_genome</td>\n",
       "      <td>0.053435</td>\n",
       "      <td>human gut metagenome</td>\n",
       "    </tr>\n",
       "    <tr>\n",
       "      <th>DRR162212</th>\n",
       "      <td>FV_DSM_15829_genome</td>\n",
       "      <td>0.022901</td>\n",
       "      <td>human gut metagenome</td>\n",
       "    </tr>\n",
       "    <tr>\n",
       "      <th>DRR171463</th>\n",
       "      <td>FV_DSM_15829_genome</td>\n",
       "      <td>0.236641</td>\n",
       "      <td>human gut metagenome</td>\n",
       "    </tr>\n",
       "    <tr>\n",
       "      <th>DRR171463</th>\n",
       "      <td>FV_PB189-T1-4_genome</td>\n",
       "      <td>0.123134</td>\n",
       "      <td>human gut metagenome</td>\n",
       "    </tr>\n",
       "  </tbody>\n",
       "</table>\n",
       "</div>"
      ],
      "text/plain": [
       "                          query  containment        ScientificName\n",
       "Run                                                               \n",
       "DRR127774   FV_DSM_15829_genome     0.137405  human gut metagenome\n",
       "DRR162207   FV_DSM_15829_genome     0.053435  human gut metagenome\n",
       "DRR162212   FV_DSM_15829_genome     0.022901  human gut metagenome\n",
       "DRR171463   FV_DSM_15829_genome     0.236641  human gut metagenome\n",
       "DRR171463  FV_PB189-T1-4_genome     0.123134  human gut metagenome"
      ]
     },
     "execution_count": 16,
     "metadata": {},
     "output_type": "execute_result"
    }
   ],
   "source": [
    "vg_df.head()"
   ]
  },
  {
   "cell_type": "markdown",
   "id": "c4a68db4-1252-42af-b772-12d7cd04f9e5",
   "metadata": {},
   "source": [
    "# Start looking at the results!\n"
   ]
  },
  {
   "cell_type": "code",
   "execution_count": 17,
   "id": "7e034f1c-3d94-41fb-a1e7-4ceb42524a6d",
   "metadata": {},
   "outputs": [
    {
     "data": {
      "text/plain": [
       "human gut metagenome                    728\n",
       "human vaginal metagenome                650\n",
       "human metagenome                        580\n",
       "human skin metagenome                   467\n",
       "metagenome                              399\n",
       "wastewater metagenome                   211\n",
       "vaginal metagenome                      203\n",
       "gut metagenome                          155\n",
       "air metagenome                          108\n",
       "Homo sapiens                             78\n",
       "skin metagenome                          46\n",
       "urine metagenome                         38\n",
       "Chlamydia trachomatis                    36\n",
       "indoor metagenome                        32\n",
       "feces metagenome                         29\n",
       "unidentified                             20\n",
       "human lung metagenome                    19\n",
       "human urinary tract metagenome           17\n",
       "human reproductive system metagenome     14\n",
       "Neisseria gonorrhoeae                    13\n",
       "Name: ScientificName, dtype: int64"
      ]
     },
     "execution_count": 17,
     "metadata": {},
     "output_type": "execute_result"
    }
   ],
   "source": [
    "# what are the top ScientificNames of the matches?\n",
    "vg_df[\"ScientificName\"].value_counts()[:20]"
   ]
  },
  {
   "cell_type": "markdown",
   "id": "d67a2d0d-8e09-4be2-8a8b-9bfe9490c931",
   "metadata": {},
   "source": [
    "## Sort Results by Containment\n",
    "\n",
    "The default threshold for containment is 0.01, which means ~1% of the query genome needs to be found in the metagenome for it to be reported. That's not very stringent!\n",
    "\n",
    "First, let's look at the SRA runs that had the **best** containment of our queries:"
   ]
  },
  {
   "cell_type": "code",
   "execution_count": 18,
   "id": "5b56053f-527f-415d-9e89-5f566672ed12",
   "metadata": {},
   "outputs": [
    {
     "data": {
      "text/html": [
       "<div>\n",
       "<style scoped>\n",
       "    .dataframe tbody tr th:only-of-type {\n",
       "        vertical-align: middle;\n",
       "    }\n",
       "\n",
       "    .dataframe tbody tr th {\n",
       "        vertical-align: top;\n",
       "    }\n",
       "\n",
       "    .dataframe thead th {\n",
       "        text-align: right;\n",
       "    }\n",
       "</style>\n",
       "<table border=\"1\" class=\"dataframe\">\n",
       "  <thead>\n",
       "    <tr style=\"text-align: right;\">\n",
       "      <th></th>\n",
       "      <th>query</th>\n",
       "      <th>containment</th>\n",
       "      <th>ScientificName</th>\n",
       "    </tr>\n",
       "    <tr>\n",
       "      <th>Run</th>\n",
       "      <th></th>\n",
       "      <th></th>\n",
       "      <th></th>\n",
       "    </tr>\n",
       "  </thead>\n",
       "  <tbody>\n",
       "    <tr>\n",
       "      <th>SRR063897</th>\n",
       "      <td>FV_PB189-T1-4_genome</td>\n",
       "      <td>1.000000</td>\n",
       "      <td>human metagenome</td>\n",
       "    </tr>\n",
       "    <tr>\n",
       "      <th>SRR17635737</th>\n",
       "      <td>FV_DSM_15829_genome</td>\n",
       "      <td>0.862595</td>\n",
       "      <td>human vaginal metagenome</td>\n",
       "    </tr>\n",
       "    <tr>\n",
       "      <th>SRR16916853</th>\n",
       "      <td>FV_DSM_15829_genome</td>\n",
       "      <td>0.854962</td>\n",
       "      <td>human metagenome</td>\n",
       "    </tr>\n",
       "    <tr>\n",
       "      <th>SRR17635738</th>\n",
       "      <td>FV_DSM_15829_genome</td>\n",
       "      <td>0.847328</td>\n",
       "      <td>human vaginal metagenome</td>\n",
       "    </tr>\n",
       "    <tr>\n",
       "      <th>SRR16916862</th>\n",
       "      <td>FV_DSM_15829_genome</td>\n",
       "      <td>0.832061</td>\n",
       "      <td>human metagenome</td>\n",
       "    </tr>\n",
       "    <tr>\n",
       "      <th>SRR17635740</th>\n",
       "      <td>FV_DSM_15829_genome</td>\n",
       "      <td>0.824427</td>\n",
       "      <td>human vaginal metagenome</td>\n",
       "    </tr>\n",
       "    <tr>\n",
       "      <th>SRR17635741</th>\n",
       "      <td>FV_DSM_15829_genome</td>\n",
       "      <td>0.816794</td>\n",
       "      <td>human vaginal metagenome</td>\n",
       "    </tr>\n",
       "    <tr>\n",
       "      <th>SRR513452</th>\n",
       "      <td>FV_DSM_15829_genome</td>\n",
       "      <td>0.809160</td>\n",
       "      <td>human metagenome</td>\n",
       "    </tr>\n",
       "    <tr>\n",
       "      <th>SRR16916861</th>\n",
       "      <td>FV_DSM_15829_genome</td>\n",
       "      <td>0.778626</td>\n",
       "      <td>human metagenome</td>\n",
       "    </tr>\n",
       "    <tr>\n",
       "      <th>SRR17635689</th>\n",
       "      <td>FV_DSM_15829_genome</td>\n",
       "      <td>0.778626</td>\n",
       "      <td>human vaginal metagenome</td>\n",
       "    </tr>\n",
       "    <tr>\n",
       "      <th>SRR17635697</th>\n",
       "      <td>FV_DSM_15829_genome</td>\n",
       "      <td>0.778626</td>\n",
       "      <td>human vaginal metagenome</td>\n",
       "    </tr>\n",
       "    <tr>\n",
       "      <th>SRR17635479</th>\n",
       "      <td>FV_DSM_15829_genome</td>\n",
       "      <td>0.770992</td>\n",
       "      <td>human vaginal metagenome</td>\n",
       "    </tr>\n",
       "    <tr>\n",
       "      <th>SRR17635475</th>\n",
       "      <td>FV_DSM_15829_genome</td>\n",
       "      <td>0.763359</td>\n",
       "      <td>human vaginal metagenome</td>\n",
       "    </tr>\n",
       "    <tr>\n",
       "      <th>SRR628264</th>\n",
       "      <td>FV_DSM_15829_genome</td>\n",
       "      <td>0.763359</td>\n",
       "      <td>human metagenome</td>\n",
       "    </tr>\n",
       "    <tr>\n",
       "      <th>SRR17635687</th>\n",
       "      <td>FV_DSM_15829_genome</td>\n",
       "      <td>0.755725</td>\n",
       "      <td>human vaginal metagenome</td>\n",
       "    </tr>\n",
       "    <tr>\n",
       "      <th>SRR16916865</th>\n",
       "      <td>FV_DSM_15829_genome</td>\n",
       "      <td>0.755725</td>\n",
       "      <td>human metagenome</td>\n",
       "    </tr>\n",
       "    <tr>\n",
       "      <th>SRR17635698</th>\n",
       "      <td>FV_DSM_15829_genome</td>\n",
       "      <td>0.755725</td>\n",
       "      <td>human vaginal metagenome</td>\n",
       "    </tr>\n",
       "    <tr>\n",
       "      <th>SRR17635739</th>\n",
       "      <td>FV_DSM_15829_genome</td>\n",
       "      <td>0.748092</td>\n",
       "      <td>human vaginal metagenome</td>\n",
       "    </tr>\n",
       "    <tr>\n",
       "      <th>SRR13052611</th>\n",
       "      <td>FV_DSM_15829_genome</td>\n",
       "      <td>0.748092</td>\n",
       "      <td>Human papillomavirus</td>\n",
       "    </tr>\n",
       "    <tr>\n",
       "      <th>SRR16916874</th>\n",
       "      <td>FV_PB189-T1-4_genome</td>\n",
       "      <td>0.742537</td>\n",
       "      <td>human metagenome</td>\n",
       "    </tr>\n",
       "  </tbody>\n",
       "</table>\n",
       "</div>"
      ],
      "text/plain": [
       "                            query  containment            ScientificName\n",
       "Run                                                                     \n",
       "SRR063897    FV_PB189-T1-4_genome     1.000000          human metagenome\n",
       "SRR17635737   FV_DSM_15829_genome     0.862595  human vaginal metagenome\n",
       "SRR16916853   FV_DSM_15829_genome     0.854962          human metagenome\n",
       "SRR17635738   FV_DSM_15829_genome     0.847328  human vaginal metagenome\n",
       "SRR16916862   FV_DSM_15829_genome     0.832061          human metagenome\n",
       "SRR17635740   FV_DSM_15829_genome     0.824427  human vaginal metagenome\n",
       "SRR17635741   FV_DSM_15829_genome     0.816794  human vaginal metagenome\n",
       "SRR513452     FV_DSM_15829_genome     0.809160          human metagenome\n",
       "SRR16916861   FV_DSM_15829_genome     0.778626          human metagenome\n",
       "SRR17635689   FV_DSM_15829_genome     0.778626  human vaginal metagenome\n",
       "SRR17635697   FV_DSM_15829_genome     0.778626  human vaginal metagenome\n",
       "SRR17635479   FV_DSM_15829_genome     0.770992  human vaginal metagenome\n",
       "SRR17635475   FV_DSM_15829_genome     0.763359  human vaginal metagenome\n",
       "SRR628264     FV_DSM_15829_genome     0.763359          human metagenome\n",
       "SRR17635687   FV_DSM_15829_genome     0.755725  human vaginal metagenome\n",
       "SRR16916865   FV_DSM_15829_genome     0.755725          human metagenome\n",
       "SRR17635698   FV_DSM_15829_genome     0.755725  human vaginal metagenome\n",
       "SRR17635739   FV_DSM_15829_genome     0.748092  human vaginal metagenome\n",
       "SRR13052611   FV_DSM_15829_genome     0.748092      Human papillomavirus\n",
       "SRR16916874  FV_PB189-T1-4_genome     0.742537          human metagenome"
      ]
     },
     "execution_count": 18,
     "metadata": {},
     "output_type": "execute_result"
    }
   ],
   "source": [
    "vg_df.sort_values(by=['containment'], ascending=False)[:20]"
   ]
  },
  {
   "cell_type": "markdown",
   "id": "8fc7e866-666c-440a-a07e-e759c2aaab12",
   "metadata": {},
   "source": [
    "## Filter Results by Containment\n",
    "\n",
    "We've found (rule of thumb) that 0.2 is a decent value - 20% - indicating some level of stringency. Let's take a look -"
   ]
  },
  {
   "cell_type": "code",
   "execution_count": 19,
   "id": "cabc6abc-2f46-49d5-a63e-665863c511c3",
   "metadata": {},
   "outputs": [
    {
     "name": "stdout",
     "output_type": "stream",
     "text": [
      "query type: vaginal\n",
      "total matches: 948\n",
      "query: 2\n",
      "metagenomes: 806\n",
      "\n",
      "\n",
      "human vaginal metagenome                338\n",
      "human metagenome                        242\n",
      "human gut metagenome                     93\n",
      "vaginal metagenome                       70\n",
      "human skin metagenome                    62\n",
      "metagenome                               41\n",
      "Homo sapiens                             30\n",
      "urine metagenome                         14\n",
      "gut metagenome                           11\n",
      "human reproductive system metagenome      9\n",
      "human lung metagenome                     8\n",
      "Chlamydia trachomatis                     8\n",
      "skin metagenome                           5\n",
      "indoor metagenome                         4\n",
      "human urinary tract metagenome            2\n",
      "feces metagenome                          2\n",
      "urinary tract metagenome                  2\n",
      "human eye metagenome                      2\n",
      "Human papillomavirus                      1\n",
      "human oral metagenome                     1\n",
      "Name: ScientificName, dtype: int64 \n",
      "\n",
      "\n"
     ]
    }
   ],
   "source": [
    "# let's do some filtering -\n",
    "vg_df2 = vg_df[vg_df['containment'] > 0.2]\n",
    "\n",
    "for name, df in {\"vaginal\": vg_df2}.items():\n",
    "    print('query type:', name)\n",
    "    print('total matches:', len(df))\n",
    "    print('query:', len(set(df[\"query\"])))\n",
    "    print('metagenomes:', len(set(df.index)))\n",
    "    print(\"\\n\")\n",
    "    print(df[\"ScientificName\"].value_counts()[:20], \"\\n\\n\")"
   ]
  },
  {
   "cell_type": "markdown",
   "id": "77d28248-af0e-424b-b9eb-137ea5ce1980",
   "metadata": {},
   "source": [
    "## Now let's filter at >50%\n",
    "\n",
    "Especially for our vg query, we have a _lot_ of results. Let's be a bit more stringent."
   ]
  },
  {
   "cell_type": "code",
   "execution_count": 20,
   "id": "8286f05b-693a-4975-be3d-81dd6f1233bb",
   "metadata": {},
   "outputs": [
    {
     "name": "stdout",
     "output_type": "stream",
     "text": [
      "query type: vaginal\n",
      "total matches: 336\n",
      "query: 2\n",
      "metagenomes: 303\n",
      "\n",
      "\n",
      "human vaginal metagenome                149\n",
      "human metagenome                        129\n",
      "human gut metagenome                     16\n",
      "vaginal metagenome                       14\n",
      "Homo sapiens                              8\n",
      "human reproductive system metagenome      3\n",
      "urine metagenome                          3\n",
      "human skin metagenome                     3\n",
      "human lung metagenome                     3\n",
      "skin metagenome                           2\n",
      "feces metagenome                          1\n",
      "Human papillomavirus                      1\n",
      "urinary tract metagenome                  1\n",
      "hydrothermal vent metagenome              1\n",
      "money metagenome                          1\n",
      "indoor metagenome                         1\n",
      "Name: ScientificName, dtype: int64 \n",
      "\n",
      "\n"
     ]
    }
   ],
   "source": [
    "vg_df3 = vg_df[vg_df['containment'] > 0.5]\n",
    "\n",
    "for name, df in {\"vaginal\": vg_df3}.items():\n",
    "    print('query type:', name)\n",
    "    print('total matches:', len(df))\n",
    "    print('query:', len(set(df[\"query\"])))\n",
    "    print('metagenomes:', len(set(df.index)))\n",
    "    print(\"\\n\")\n",
    "    print(df[\"ScientificName\"].value_counts()[:20], \"\\n\\n\")"
   ]
  },
  {
   "cell_type": "code",
   "execution_count": 21,
   "id": "52834a52-4d84-46c3-8d6c-fad5c6008bea",
   "metadata": {},
   "outputs": [],
   "source": [
    "# save these results to a file\n",
    "vg_df3.to_csv(\"vg_metagenome_results.k31.0.5.containment.csv\")"
   ]
  },
  {
   "cell_type": "code",
   "execution_count": 22,
   "id": "8aee4ee0-44c0-4cae-a57d-da0543c68aab",
   "metadata": {},
   "outputs": [
    {
     "data": {
      "text/plain": [
       "FV_DSM_15829_genome     103\n",
       "FV_PB189-T1-4_genome     46\n",
       "Name: query, dtype: int64"
      ]
     },
     "execution_count": 22,
     "metadata": {},
     "output_type": "execute_result"
    }
   ],
   "source": [
    "# if you want, you can subset by SRA metadata..\n",
    "vg_only_df = vg_df3[vg_df3[\"ScientificName\"] == 'human vaginal metagenome']\n",
    "vg_only_df[\"query\"].value_counts()#[:20]"
   ]
  }
 ],
 "metadata": {
  "kernelspec": {
   "display_name": "Python 3 (ipykernel)",
   "language": "python",
   "name": "python3"
  },
  "language_info": {
   "codemirror_mode": {
    "name": "ipython",
    "version": 3
   },
   "file_extension": ".py",
   "mimetype": "text/x-python",
   "name": "python",
   "nbconvert_exporter": "python",
   "pygments_lexer": "ipython3",
   "version": "3.8.13"
  }
 },
 "nbformat": 4,
 "nbformat_minor": 5
}
